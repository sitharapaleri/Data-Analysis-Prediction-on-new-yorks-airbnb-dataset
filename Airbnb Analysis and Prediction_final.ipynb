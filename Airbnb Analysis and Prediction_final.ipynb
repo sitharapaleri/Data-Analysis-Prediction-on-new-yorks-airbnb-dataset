{
 "cells": [
  {
   "cell_type": "markdown",
   "metadata": {},
   "source": [
    "# New York Airbnb Data Exploration and Modeling "
   ]
  },
  {
   "cell_type": "markdown",
   "metadata": {},
   "source": [
    "1.Identification of Relevant Datasets\n",
    "2.Cleansing and data transformation\n",
    "3.Visualization\n",
    "    3.1 Top 15 Most Popular Words\n",
    "    3.2 Visualization for Share of different neighbourhood group\n",
    "    3.3 Visualization for Representing different neighbourhood groups wrt Longitude vs Latitude\n",
    "    3.4 Visualization for Top 10 Most Popular Airbnb Hosts\n",
    "    3.5 Visualization for Number of Airbnb at Each Location\n",
    "    3.6 Visualization for Number of Reviews at Each Location\n",
    "    3.7 Visualization for Location Wise Room Type Occupancy\n",
    "    3.8 Visualization for Pairwise Correlation of Selected Variables in Dataset\n",
    "4.Modeling"
   ]
  },
  {
   "cell_type": "markdown",
   "metadata": {},
   "source": [
    "# Identification of Relevant Datasets"
   ]
  },
  {
   "cell_type": "code",
   "execution_count": 57,
   "metadata": {},
   "outputs": [
    {
     "data": {
      "text/html": [
       "        <script type=\"text/javascript\">\n",
       "        window.PlotlyConfig = {MathJaxConfig: 'local'};\n",
       "        if (window.MathJax) {MathJax.Hub.Config({SVG: {font: \"STIX-Web\"}});}\n",
       "        if (typeof require !== 'undefined') {\n",
       "        require.undef(\"plotly\");\n",
       "        requirejs.config({\n",
       "            paths: {\n",
       "                'plotly': ['https://cdn.plot.ly/plotly-latest.min']\n",
       "            }\n",
       "        });\n",
       "        require(['plotly'], function(Plotly) {\n",
       "            window._Plotly = Plotly;\n",
       "        });\n",
       "        }\n",
       "        </script>\n",
       "        "
      ]
     },
     "metadata": {},
     "output_type": "display_data"
    },
    {
     "data": {
      "text/html": [
       "<div>\n",
       "<style scoped>\n",
       "    .dataframe tbody tr th:only-of-type {\n",
       "        vertical-align: middle;\n",
       "    }\n",
       "\n",
       "    .dataframe tbody tr th {\n",
       "        vertical-align: top;\n",
       "    }\n",
       "\n",
       "    .dataframe thead th {\n",
       "        text-align: right;\n",
       "    }\n",
       "</style>\n",
       "<table border=\"1\" class=\"dataframe\">\n",
       "  <thead>\n",
       "    <tr style=\"text-align: right;\">\n",
       "      <th></th>\n",
       "      <th>id</th>\n",
       "      <th>name</th>\n",
       "      <th>host_id</th>\n",
       "      <th>host_name</th>\n",
       "      <th>neighbourhood_group</th>\n",
       "      <th>neighbourhood</th>\n",
       "      <th>latitude</th>\n",
       "      <th>longitude</th>\n",
       "      <th>room_type</th>\n",
       "      <th>price</th>\n",
       "      <th>minimum_nights</th>\n",
       "      <th>number_of_reviews</th>\n",
       "      <th>last_review</th>\n",
       "      <th>reviews_per_month</th>\n",
       "      <th>calculated_host_listings_count</th>\n",
       "      <th>availability_365</th>\n",
       "    </tr>\n",
       "  </thead>\n",
       "  <tbody>\n",
       "    <tr>\n",
       "      <td>0</td>\n",
       "      <td>2539</td>\n",
       "      <td>Clean &amp; quiet apt home by the park</td>\n",
       "      <td>2787</td>\n",
       "      <td>John</td>\n",
       "      <td>Brooklyn</td>\n",
       "      <td>Kensington</td>\n",
       "      <td>40.64749</td>\n",
       "      <td>-73.97237</td>\n",
       "      <td>Private room</td>\n",
       "      <td>149</td>\n",
       "      <td>1</td>\n",
       "      <td>9</td>\n",
       "      <td>2018-10-19</td>\n",
       "      <td>0.21</td>\n",
       "      <td>6</td>\n",
       "      <td>365</td>\n",
       "    </tr>\n",
       "    <tr>\n",
       "      <td>1</td>\n",
       "      <td>2595</td>\n",
       "      <td>Skylit Midtown Castle</td>\n",
       "      <td>2845</td>\n",
       "      <td>Jennifer</td>\n",
       "      <td>Manhattan</td>\n",
       "      <td>Midtown</td>\n",
       "      <td>40.75362</td>\n",
       "      <td>-73.98377</td>\n",
       "      <td>Entire home/apt</td>\n",
       "      <td>225</td>\n",
       "      <td>1</td>\n",
       "      <td>45</td>\n",
       "      <td>2019-05-21</td>\n",
       "      <td>0.38</td>\n",
       "      <td>2</td>\n",
       "      <td>355</td>\n",
       "    </tr>\n",
       "    <tr>\n",
       "      <td>2</td>\n",
       "      <td>3647</td>\n",
       "      <td>THE VILLAGE OF HARLEM....NEW YORK !</td>\n",
       "      <td>4632</td>\n",
       "      <td>Elisabeth</td>\n",
       "      <td>Manhattan</td>\n",
       "      <td>Harlem</td>\n",
       "      <td>40.80902</td>\n",
       "      <td>-73.94190</td>\n",
       "      <td>Private room</td>\n",
       "      <td>150</td>\n",
       "      <td>3</td>\n",
       "      <td>0</td>\n",
       "      <td>NaN</td>\n",
       "      <td>NaN</td>\n",
       "      <td>1</td>\n",
       "      <td>365</td>\n",
       "    </tr>\n",
       "    <tr>\n",
       "      <td>3</td>\n",
       "      <td>3831</td>\n",
       "      <td>Cozy Entire Floor of Brownstone</td>\n",
       "      <td>4869</td>\n",
       "      <td>LisaRoxanne</td>\n",
       "      <td>Brooklyn</td>\n",
       "      <td>Clinton Hill</td>\n",
       "      <td>40.68514</td>\n",
       "      <td>-73.95976</td>\n",
       "      <td>Entire home/apt</td>\n",
       "      <td>89</td>\n",
       "      <td>1</td>\n",
       "      <td>270</td>\n",
       "      <td>2019-07-05</td>\n",
       "      <td>4.64</td>\n",
       "      <td>1</td>\n",
       "      <td>194</td>\n",
       "    </tr>\n",
       "    <tr>\n",
       "      <td>4</td>\n",
       "      <td>5022</td>\n",
       "      <td>Entire Apt: Spacious Studio/Loft by central park</td>\n",
       "      <td>7192</td>\n",
       "      <td>Laura</td>\n",
       "      <td>Manhattan</td>\n",
       "      <td>East Harlem</td>\n",
       "      <td>40.79851</td>\n",
       "      <td>-73.94399</td>\n",
       "      <td>Entire home/apt</td>\n",
       "      <td>80</td>\n",
       "      <td>10</td>\n",
       "      <td>9</td>\n",
       "      <td>2018-11-19</td>\n",
       "      <td>0.10</td>\n",
       "      <td>1</td>\n",
       "      <td>0</td>\n",
       "    </tr>\n",
       "    <tr>\n",
       "      <td>...</td>\n",
       "      <td>...</td>\n",
       "      <td>...</td>\n",
       "      <td>...</td>\n",
       "      <td>...</td>\n",
       "      <td>...</td>\n",
       "      <td>...</td>\n",
       "      <td>...</td>\n",
       "      <td>...</td>\n",
       "      <td>...</td>\n",
       "      <td>...</td>\n",
       "      <td>...</td>\n",
       "      <td>...</td>\n",
       "      <td>...</td>\n",
       "      <td>...</td>\n",
       "      <td>...</td>\n",
       "      <td>...</td>\n",
       "    </tr>\n",
       "    <tr>\n",
       "      <td>48890</td>\n",
       "      <td>36484665</td>\n",
       "      <td>Charming one bedroom - newly renovated rowhouse</td>\n",
       "      <td>8232441</td>\n",
       "      <td>Sabrina</td>\n",
       "      <td>Brooklyn</td>\n",
       "      <td>Bedford-Stuyvesant</td>\n",
       "      <td>40.67853</td>\n",
       "      <td>-73.94995</td>\n",
       "      <td>Private room</td>\n",
       "      <td>70</td>\n",
       "      <td>2</td>\n",
       "      <td>0</td>\n",
       "      <td>NaN</td>\n",
       "      <td>NaN</td>\n",
       "      <td>2</td>\n",
       "      <td>9</td>\n",
       "    </tr>\n",
       "    <tr>\n",
       "      <td>48891</td>\n",
       "      <td>36485057</td>\n",
       "      <td>Affordable room in Bushwick/East Williamsburg</td>\n",
       "      <td>6570630</td>\n",
       "      <td>Marisol</td>\n",
       "      <td>Brooklyn</td>\n",
       "      <td>Bushwick</td>\n",
       "      <td>40.70184</td>\n",
       "      <td>-73.93317</td>\n",
       "      <td>Private room</td>\n",
       "      <td>40</td>\n",
       "      <td>4</td>\n",
       "      <td>0</td>\n",
       "      <td>NaN</td>\n",
       "      <td>NaN</td>\n",
       "      <td>2</td>\n",
       "      <td>36</td>\n",
       "    </tr>\n",
       "    <tr>\n",
       "      <td>48892</td>\n",
       "      <td>36485431</td>\n",
       "      <td>Sunny Studio at Historical Neighborhood</td>\n",
       "      <td>23492952</td>\n",
       "      <td>Ilgar &amp; Aysel</td>\n",
       "      <td>Manhattan</td>\n",
       "      <td>Harlem</td>\n",
       "      <td>40.81475</td>\n",
       "      <td>-73.94867</td>\n",
       "      <td>Entire home/apt</td>\n",
       "      <td>115</td>\n",
       "      <td>10</td>\n",
       "      <td>0</td>\n",
       "      <td>NaN</td>\n",
       "      <td>NaN</td>\n",
       "      <td>1</td>\n",
       "      <td>27</td>\n",
       "    </tr>\n",
       "    <tr>\n",
       "      <td>48893</td>\n",
       "      <td>36485609</td>\n",
       "      <td>43rd St. Time Square-cozy single bed</td>\n",
       "      <td>30985759</td>\n",
       "      <td>Taz</td>\n",
       "      <td>Manhattan</td>\n",
       "      <td>Hell's Kitchen</td>\n",
       "      <td>40.75751</td>\n",
       "      <td>-73.99112</td>\n",
       "      <td>Shared room</td>\n",
       "      <td>55</td>\n",
       "      <td>1</td>\n",
       "      <td>0</td>\n",
       "      <td>NaN</td>\n",
       "      <td>NaN</td>\n",
       "      <td>6</td>\n",
       "      <td>2</td>\n",
       "    </tr>\n",
       "    <tr>\n",
       "      <td>48894</td>\n",
       "      <td>36487245</td>\n",
       "      <td>Trendy duplex in the very heart of Hell's Kitchen</td>\n",
       "      <td>68119814</td>\n",
       "      <td>Christophe</td>\n",
       "      <td>Manhattan</td>\n",
       "      <td>Hell's Kitchen</td>\n",
       "      <td>40.76404</td>\n",
       "      <td>-73.98933</td>\n",
       "      <td>Private room</td>\n",
       "      <td>90</td>\n",
       "      <td>7</td>\n",
       "      <td>0</td>\n",
       "      <td>NaN</td>\n",
       "      <td>NaN</td>\n",
       "      <td>1</td>\n",
       "      <td>23</td>\n",
       "    </tr>\n",
       "  </tbody>\n",
       "</table>\n",
       "<p>48895 rows × 16 columns</p>\n",
       "</div>"
      ],
      "text/plain": [
       "             id                                               name   host_id  \\\n",
       "0          2539                 Clean & quiet apt home by the park      2787   \n",
       "1          2595                              Skylit Midtown Castle      2845   \n",
       "2          3647                THE VILLAGE OF HARLEM....NEW YORK !      4632   \n",
       "3          3831                    Cozy Entire Floor of Brownstone      4869   \n",
       "4          5022   Entire Apt: Spacious Studio/Loft by central park      7192   \n",
       "...         ...                                                ...       ...   \n",
       "48890  36484665    Charming one bedroom - newly renovated rowhouse   8232441   \n",
       "48891  36485057      Affordable room in Bushwick/East Williamsburg   6570630   \n",
       "48892  36485431            Sunny Studio at Historical Neighborhood  23492952   \n",
       "48893  36485609               43rd St. Time Square-cozy single bed  30985759   \n",
       "48894  36487245  Trendy duplex in the very heart of Hell's Kitchen  68119814   \n",
       "\n",
       "           host_name neighbourhood_group       neighbourhood  latitude  \\\n",
       "0               John            Brooklyn          Kensington  40.64749   \n",
       "1           Jennifer           Manhattan             Midtown  40.75362   \n",
       "2          Elisabeth           Manhattan              Harlem  40.80902   \n",
       "3        LisaRoxanne            Brooklyn        Clinton Hill  40.68514   \n",
       "4              Laura           Manhattan         East Harlem  40.79851   \n",
       "...              ...                 ...                 ...       ...   \n",
       "48890        Sabrina            Brooklyn  Bedford-Stuyvesant  40.67853   \n",
       "48891        Marisol            Brooklyn            Bushwick  40.70184   \n",
       "48892  Ilgar & Aysel           Manhattan              Harlem  40.81475   \n",
       "48893            Taz           Manhattan      Hell's Kitchen  40.75751   \n",
       "48894     Christophe           Manhattan      Hell's Kitchen  40.76404   \n",
       "\n",
       "       longitude        room_type  price  minimum_nights  number_of_reviews  \\\n",
       "0      -73.97237     Private room    149               1                  9   \n",
       "1      -73.98377  Entire home/apt    225               1                 45   \n",
       "2      -73.94190     Private room    150               3                  0   \n",
       "3      -73.95976  Entire home/apt     89               1                270   \n",
       "4      -73.94399  Entire home/apt     80              10                  9   \n",
       "...          ...              ...    ...             ...                ...   \n",
       "48890  -73.94995     Private room     70               2                  0   \n",
       "48891  -73.93317     Private room     40               4                  0   \n",
       "48892  -73.94867  Entire home/apt    115              10                  0   \n",
       "48893  -73.99112      Shared room     55               1                  0   \n",
       "48894  -73.98933     Private room     90               7                  0   \n",
       "\n",
       "      last_review  reviews_per_month  calculated_host_listings_count  \\\n",
       "0      2018-10-19               0.21                               6   \n",
       "1      2019-05-21               0.38                               2   \n",
       "2             NaN                NaN                               1   \n",
       "3      2019-07-05               4.64                               1   \n",
       "4      2018-11-19               0.10                               1   \n",
       "...           ...                ...                             ...   \n",
       "48890         NaN                NaN                               2   \n",
       "48891         NaN                NaN                               2   \n",
       "48892         NaN                NaN                               1   \n",
       "48893         NaN                NaN                               6   \n",
       "48894         NaN                NaN                               1   \n",
       "\n",
       "       availability_365  \n",
       "0                   365  \n",
       "1                   355  \n",
       "2                   365  \n",
       "3                   194  \n",
       "4                     0  \n",
       "...                 ...  \n",
       "48890                 9  \n",
       "48891                36  \n",
       "48892                27  \n",
       "48893                 2  \n",
       "48894                23  \n",
       "\n",
       "[48895 rows x 16 columns]"
      ]
     },
     "execution_count": 57,
     "metadata": {},
     "output_type": "execute_result"
    }
   ],
   "source": [
    "#!pip install nltk\n",
    "#!pip install -U scikit-learn scipy matplotlib\n",
    "#!pip install stop-words\n",
    "#!pip install plotly==4.1.0\n",
    "\n",
    "import plotly as plotly\n",
    "import plotly.express as px\n",
    "from plotly import __version__\n",
    "import plotly.offline as py \n",
    "from plotly.offline import init_notebook_mode, plot\n",
    "init_notebook_mode(connected=True)\n",
    "from plotly import tools\n",
    "import plotly.graph_objs as go\n",
    "import nltk\n",
    "import os\n",
    "from nltk.stem import LancasterStemmer\n",
    "import numpy as np\n",
    "import pandas as pd\n",
    "from pandas import Series, DataFrame\n",
    "import matplotlib.pyplot as plt\n",
    "import nltk.corpus\n",
    "\n",
    "\n",
    "csv = pd.read_csv(\"AB_NYC_2019.csv\")\n",
    "csv"
   ]
  },
  {
   "cell_type": "markdown",
   "metadata": {},
   "source": [
    "# Data Cleansing"
   ]
  },
  {
   "cell_type": "code",
   "execution_count": 58,
   "metadata": {},
   "outputs": [],
   "source": [
    "# In our case, missing data that is observed does not need too much special treatment. Looking into the nature of our dataset we can state further things: columns \"name\" and \"host_name\" are irrelevant and insignificant to\n",
    "# our data analysis, columns \"last_review\" and \"review_per_month\" need very simple handling. To elaborate, \n",
    "# \"last_review\" is date; if there were no reviews for the listing - date simply will not exist. In our case, this\n",
    "# column is irrelevant and insignificant therefore appending those values is not needed. For \"review_per_month\" is \n",
    "#basically related to number of reviews and to analyze we don't need this data separately as we can take data from number_of_reviews.\n",
    "# Therefore, let's proceed with removing columns that are not important and handling of missing data."
   ]
  },
  {
   "cell_type": "code",
   "execution_count": 59,
   "metadata": {},
   "outputs": [
    {
     "data": {
      "text/plain": [
       "id                                    0\n",
       "name                                 16\n",
       "host_id                               0\n",
       "host_name                            21\n",
       "neighbourhood_group                   0\n",
       "neighbourhood                         0\n",
       "latitude                              0\n",
       "longitude                             0\n",
       "room_type                             0\n",
       "price                                 0\n",
       "minimum_nights                        0\n",
       "number_of_reviews                     0\n",
       "last_review                       10052\n",
       "reviews_per_month                 10052\n",
       "calculated_host_listings_count        0\n",
       "availability_365                      0\n",
       "dtype: int64"
      ]
     },
     "execution_count": 59,
     "metadata": {},
     "output_type": "execute_result"
    }
   ],
   "source": [
    "csv.isnull().sum()"
   ]
  },
  {
   "cell_type": "code",
   "execution_count": 60,
   "metadata": {},
   "outputs": [
    {
     "data": {
      "text/html": [
       "<div>\n",
       "<style scoped>\n",
       "    .dataframe tbody tr th:only-of-type {\n",
       "        vertical-align: middle;\n",
       "    }\n",
       "\n",
       "    .dataframe tbody tr th {\n",
       "        vertical-align: top;\n",
       "    }\n",
       "\n",
       "    .dataframe thead th {\n",
       "        text-align: right;\n",
       "    }\n",
       "</style>\n",
       "<table border=\"1\" class=\"dataframe\">\n",
       "  <thead>\n",
       "    <tr style=\"text-align: right;\">\n",
       "      <th></th>\n",
       "      <th>name</th>\n",
       "      <th>host_id</th>\n",
       "      <th>neighbourhood_group</th>\n",
       "      <th>neighbourhood</th>\n",
       "      <th>latitude</th>\n",
       "      <th>longitude</th>\n",
       "      <th>room_type</th>\n",
       "      <th>price</th>\n",
       "      <th>minimum_nights</th>\n",
       "      <th>number_of_reviews</th>\n",
       "      <th>calculated_host_listings_count</th>\n",
       "      <th>availability_365</th>\n",
       "    </tr>\n",
       "  </thead>\n",
       "  <tbody>\n",
       "    <tr>\n",
       "      <td>0</td>\n",
       "      <td>Clean &amp; quiet apt home by the park</td>\n",
       "      <td>2787</td>\n",
       "      <td>Brooklyn</td>\n",
       "      <td>Kensington</td>\n",
       "      <td>40.64749</td>\n",
       "      <td>-73.97237</td>\n",
       "      <td>Private room</td>\n",
       "      <td>149</td>\n",
       "      <td>1</td>\n",
       "      <td>9</td>\n",
       "      <td>6</td>\n",
       "      <td>365</td>\n",
       "    </tr>\n",
       "    <tr>\n",
       "      <td>1</td>\n",
       "      <td>Skylit Midtown Castle</td>\n",
       "      <td>2845</td>\n",
       "      <td>Manhattan</td>\n",
       "      <td>Midtown</td>\n",
       "      <td>40.75362</td>\n",
       "      <td>-73.98377</td>\n",
       "      <td>Entire home/apt</td>\n",
       "      <td>225</td>\n",
       "      <td>1</td>\n",
       "      <td>45</td>\n",
       "      <td>2</td>\n",
       "      <td>355</td>\n",
       "    </tr>\n",
       "    <tr>\n",
       "      <td>2</td>\n",
       "      <td>THE VILLAGE OF HARLEM....NEW YORK !</td>\n",
       "      <td>4632</td>\n",
       "      <td>Manhattan</td>\n",
       "      <td>Harlem</td>\n",
       "      <td>40.80902</td>\n",
       "      <td>-73.94190</td>\n",
       "      <td>Private room</td>\n",
       "      <td>150</td>\n",
       "      <td>3</td>\n",
       "      <td>0</td>\n",
       "      <td>1</td>\n",
       "      <td>365</td>\n",
       "    </tr>\n",
       "    <tr>\n",
       "      <td>3</td>\n",
       "      <td>Cozy Entire Floor of Brownstone</td>\n",
       "      <td>4869</td>\n",
       "      <td>Brooklyn</td>\n",
       "      <td>Clinton Hill</td>\n",
       "      <td>40.68514</td>\n",
       "      <td>-73.95976</td>\n",
       "      <td>Entire home/apt</td>\n",
       "      <td>89</td>\n",
       "      <td>1</td>\n",
       "      <td>270</td>\n",
       "      <td>1</td>\n",
       "      <td>194</td>\n",
       "    </tr>\n",
       "    <tr>\n",
       "      <td>4</td>\n",
       "      <td>Entire Apt: Spacious Studio/Loft by central park</td>\n",
       "      <td>7192</td>\n",
       "      <td>Manhattan</td>\n",
       "      <td>East Harlem</td>\n",
       "      <td>40.79851</td>\n",
       "      <td>-73.94399</td>\n",
       "      <td>Entire home/apt</td>\n",
       "      <td>80</td>\n",
       "      <td>10</td>\n",
       "      <td>9</td>\n",
       "      <td>1</td>\n",
       "      <td>0</td>\n",
       "    </tr>\n",
       "    <tr>\n",
       "      <td>...</td>\n",
       "      <td>...</td>\n",
       "      <td>...</td>\n",
       "      <td>...</td>\n",
       "      <td>...</td>\n",
       "      <td>...</td>\n",
       "      <td>...</td>\n",
       "      <td>...</td>\n",
       "      <td>...</td>\n",
       "      <td>...</td>\n",
       "      <td>...</td>\n",
       "      <td>...</td>\n",
       "      <td>...</td>\n",
       "    </tr>\n",
       "    <tr>\n",
       "      <td>48890</td>\n",
       "      <td>Charming one bedroom - newly renovated rowhouse</td>\n",
       "      <td>8232441</td>\n",
       "      <td>Brooklyn</td>\n",
       "      <td>Bedford-Stuyvesant</td>\n",
       "      <td>40.67853</td>\n",
       "      <td>-73.94995</td>\n",
       "      <td>Private room</td>\n",
       "      <td>70</td>\n",
       "      <td>2</td>\n",
       "      <td>0</td>\n",
       "      <td>2</td>\n",
       "      <td>9</td>\n",
       "    </tr>\n",
       "    <tr>\n",
       "      <td>48891</td>\n",
       "      <td>Affordable room in Bushwick/East Williamsburg</td>\n",
       "      <td>6570630</td>\n",
       "      <td>Brooklyn</td>\n",
       "      <td>Bushwick</td>\n",
       "      <td>40.70184</td>\n",
       "      <td>-73.93317</td>\n",
       "      <td>Private room</td>\n",
       "      <td>40</td>\n",
       "      <td>4</td>\n",
       "      <td>0</td>\n",
       "      <td>2</td>\n",
       "      <td>36</td>\n",
       "    </tr>\n",
       "    <tr>\n",
       "      <td>48892</td>\n",
       "      <td>Sunny Studio at Historical Neighborhood</td>\n",
       "      <td>23492952</td>\n",
       "      <td>Manhattan</td>\n",
       "      <td>Harlem</td>\n",
       "      <td>40.81475</td>\n",
       "      <td>-73.94867</td>\n",
       "      <td>Entire home/apt</td>\n",
       "      <td>115</td>\n",
       "      <td>10</td>\n",
       "      <td>0</td>\n",
       "      <td>1</td>\n",
       "      <td>27</td>\n",
       "    </tr>\n",
       "    <tr>\n",
       "      <td>48893</td>\n",
       "      <td>43rd St. Time Square-cozy single bed</td>\n",
       "      <td>30985759</td>\n",
       "      <td>Manhattan</td>\n",
       "      <td>Hell's Kitchen</td>\n",
       "      <td>40.75751</td>\n",
       "      <td>-73.99112</td>\n",
       "      <td>Shared room</td>\n",
       "      <td>55</td>\n",
       "      <td>1</td>\n",
       "      <td>0</td>\n",
       "      <td>6</td>\n",
       "      <td>2</td>\n",
       "    </tr>\n",
       "    <tr>\n",
       "      <td>48894</td>\n",
       "      <td>Trendy duplex in the very heart of Hell's Kitchen</td>\n",
       "      <td>68119814</td>\n",
       "      <td>Manhattan</td>\n",
       "      <td>Hell's Kitchen</td>\n",
       "      <td>40.76404</td>\n",
       "      <td>-73.98933</td>\n",
       "      <td>Private room</td>\n",
       "      <td>90</td>\n",
       "      <td>7</td>\n",
       "      <td>0</td>\n",
       "      <td>1</td>\n",
       "      <td>23</td>\n",
       "    </tr>\n",
       "  </tbody>\n",
       "</table>\n",
       "<p>48884 rows × 12 columns</p>\n",
       "</div>"
      ],
      "text/plain": [
       "                                                    name   host_id  \\\n",
       "0                     Clean & quiet apt home by the park      2787   \n",
       "1                                  Skylit Midtown Castle      2845   \n",
       "2                    THE VILLAGE OF HARLEM....NEW YORK !      4632   \n",
       "3                        Cozy Entire Floor of Brownstone      4869   \n",
       "4       Entire Apt: Spacious Studio/Loft by central park      7192   \n",
       "...                                                  ...       ...   \n",
       "48890    Charming one bedroom - newly renovated rowhouse   8232441   \n",
       "48891      Affordable room in Bushwick/East Williamsburg   6570630   \n",
       "48892            Sunny Studio at Historical Neighborhood  23492952   \n",
       "48893               43rd St. Time Square-cozy single bed  30985759   \n",
       "48894  Trendy duplex in the very heart of Hell's Kitchen  68119814   \n",
       "\n",
       "      neighbourhood_group       neighbourhood  latitude  longitude  \\\n",
       "0                Brooklyn          Kensington  40.64749  -73.97237   \n",
       "1               Manhattan             Midtown  40.75362  -73.98377   \n",
       "2               Manhattan              Harlem  40.80902  -73.94190   \n",
       "3                Brooklyn        Clinton Hill  40.68514  -73.95976   \n",
       "4               Manhattan         East Harlem  40.79851  -73.94399   \n",
       "...                   ...                 ...       ...        ...   \n",
       "48890            Brooklyn  Bedford-Stuyvesant  40.67853  -73.94995   \n",
       "48891            Brooklyn            Bushwick  40.70184  -73.93317   \n",
       "48892           Manhattan              Harlem  40.81475  -73.94867   \n",
       "48893           Manhattan      Hell's Kitchen  40.75751  -73.99112   \n",
       "48894           Manhattan      Hell's Kitchen  40.76404  -73.98933   \n",
       "\n",
       "             room_type  price  minimum_nights  number_of_reviews  \\\n",
       "0         Private room    149               1                  9   \n",
       "1      Entire home/apt    225               1                 45   \n",
       "2         Private room    150               3                  0   \n",
       "3      Entire home/apt     89               1                270   \n",
       "4      Entire home/apt     80              10                  9   \n",
       "...                ...    ...             ...                ...   \n",
       "48890     Private room     70               2                  0   \n",
       "48891     Private room     40               4                  0   \n",
       "48892  Entire home/apt    115              10                  0   \n",
       "48893      Shared room     55               1                  0   \n",
       "48894     Private room     90               7                  0   \n",
       "\n",
       "       calculated_host_listings_count  availability_365  \n",
       "0                                   6               365  \n",
       "1                                   2               355  \n",
       "2                                   1               365  \n",
       "3                                   1               194  \n",
       "4                                   1                 0  \n",
       "...                               ...               ...  \n",
       "48890                               2                 9  \n",
       "48891                               2                36  \n",
       "48892                               1                27  \n",
       "48893                               6                 2  \n",
       "48894                               1                23  \n",
       "\n",
       "[48884 rows x 12 columns]"
      ]
     },
     "execution_count": 60,
     "metadata": {},
     "output_type": "execute_result"
    }
   ],
   "source": [
    "dfairbnb = csv.dropna(subset=['name'])\n",
    "dfairbnb=csv.fillna(0)\n",
    "\n",
    "dfairbnb.drop([\"id\",\"host_name\",\"last_review\",\"reviews_per_month\"], axis = 1, inplace = True)\n",
    "dfairbnb.drop( dfairbnb[ dfairbnb['price'] == 0 ].index , inplace=True)\n",
    "dfairbnb"
   ]
  },
  {
   "cell_type": "markdown",
   "metadata": {},
   "source": [
    "# Data Observation"
   ]
  },
  {
   "cell_type": "code",
   "execution_count": 61,
   "metadata": {},
   "outputs": [
    {
     "name": "stdout",
     "output_type": "stream",
     "text": [
      "\n",
      "Rows :  48884\n",
      "\n",
      "Columns : 12\n",
      "\n",
      "Columns: ['name', 'host_id', 'neighbourhood_group', 'neighbourhood', 'latitude', 'longitude', 'room_type', 'price', 'minimum_nights', 'number_of_reviews', 'calculated_host_listings_count', 'availability_365']\n",
      " \n",
      "Unique:\n",
      " name                              47895\n",
      "host_id                           37455\n",
      "neighbourhood_group                   5\n",
      "neighbourhood                       221\n",
      "latitude                          19046\n",
      "longitude                         14715\n",
      "room_type                             3\n",
      "price                               673\n",
      "minimum_nights                      109\n",
      "number_of_reviews                   394\n",
      "calculated_host_listings_count       47\n",
      "availability_365                    366\n",
      "dtype: int64\n"
     ]
    }
   ],
   "source": [
    "# Checking unique values in the columns of the dataframe\n",
    "print('\\nRows : ',dfairbnb.shape[0])\n",
    "print('\\nColumns :', dfairbnb.shape[1])\n",
    "print('\\nColumns:',dfairbnb.columns.to_list())\n",
    "print(' \\nUnique:\\n',dfairbnb.nunique())"
   ]
  },
  {
   "cell_type": "markdown",
   "metadata": {},
   "source": [
    "# Data Visualization"
   ]
  },
  {
   "cell_type": "markdown",
   "metadata": {},
   "source": [
    "### Top 15 Most Popular Words"
   ]
  },
  {
   "cell_type": "code",
   "execution_count": 62,
   "metadata": {},
   "outputs": [
    {
     "data": {
      "text/html": [
       "<div>\n",
       "<style scoped>\n",
       "    .dataframe tbody tr th:only-of-type {\n",
       "        vertical-align: middle;\n",
       "    }\n",
       "\n",
       "    .dataframe tbody tr th {\n",
       "        vertical-align: top;\n",
       "    }\n",
       "\n",
       "    .dataframe thead th {\n",
       "        text-align: right;\n",
       "    }\n",
       "</style>\n",
       "<table border=\"1\" class=\"dataframe\">\n",
       "  <thead>\n",
       "    <tr style=\"text-align: right;\">\n",
       "      <th></th>\n",
       "      <th>name</th>\n",
       "      <th>host_id</th>\n",
       "      <th>neighbourhood_group</th>\n",
       "      <th>neighbourhood</th>\n",
       "      <th>latitude</th>\n",
       "      <th>longitude</th>\n",
       "      <th>room_type</th>\n",
       "      <th>price</th>\n",
       "      <th>minimum_nights</th>\n",
       "      <th>number_of_reviews</th>\n",
       "      <th>calculated_host_listings_count</th>\n",
       "      <th>availability_365</th>\n",
       "    </tr>\n",
       "  </thead>\n",
       "  <tbody>\n",
       "    <tr>\n",
       "      <td>0</td>\n",
       "      <td>Clean &amp; quiet apt home by the park</td>\n",
       "      <td>2787</td>\n",
       "      <td>Brooklyn</td>\n",
       "      <td>Kensington</td>\n",
       "      <td>40.64749</td>\n",
       "      <td>-73.97237</td>\n",
       "      <td>Private room</td>\n",
       "      <td>149</td>\n",
       "      <td>1</td>\n",
       "      <td>9</td>\n",
       "      <td>6</td>\n",
       "      <td>365</td>\n",
       "    </tr>\n",
       "    <tr>\n",
       "      <td>1</td>\n",
       "      <td>Skylit Midtown Castle</td>\n",
       "      <td>2845</td>\n",
       "      <td>Manhattan</td>\n",
       "      <td>Midtown</td>\n",
       "      <td>40.75362</td>\n",
       "      <td>-73.98377</td>\n",
       "      <td>Entire home/apt</td>\n",
       "      <td>225</td>\n",
       "      <td>1</td>\n",
       "      <td>45</td>\n",
       "      <td>2</td>\n",
       "      <td>355</td>\n",
       "    </tr>\n",
       "    <tr>\n",
       "      <td>2</td>\n",
       "      <td>THE VILLAGE OF HARLEM....NEW YORK !</td>\n",
       "      <td>4632</td>\n",
       "      <td>Manhattan</td>\n",
       "      <td>Harlem</td>\n",
       "      <td>40.80902</td>\n",
       "      <td>-73.94190</td>\n",
       "      <td>Private room</td>\n",
       "      <td>150</td>\n",
       "      <td>3</td>\n",
       "      <td>0</td>\n",
       "      <td>1</td>\n",
       "      <td>365</td>\n",
       "    </tr>\n",
       "    <tr>\n",
       "      <td>3</td>\n",
       "      <td>Cozy Entire Floor of Brownstone</td>\n",
       "      <td>4869</td>\n",
       "      <td>Brooklyn</td>\n",
       "      <td>Clinton Hill</td>\n",
       "      <td>40.68514</td>\n",
       "      <td>-73.95976</td>\n",
       "      <td>Entire home/apt</td>\n",
       "      <td>89</td>\n",
       "      <td>1</td>\n",
       "      <td>270</td>\n",
       "      <td>1</td>\n",
       "      <td>194</td>\n",
       "    </tr>\n",
       "    <tr>\n",
       "      <td>4</td>\n",
       "      <td>Entire Apt: Spacious Studio/Loft by central park</td>\n",
       "      <td>7192</td>\n",
       "      <td>Manhattan</td>\n",
       "      <td>East Harlem</td>\n",
       "      <td>40.79851</td>\n",
       "      <td>-73.94399</td>\n",
       "      <td>Entire home/apt</td>\n",
       "      <td>80</td>\n",
       "      <td>10</td>\n",
       "      <td>9</td>\n",
       "      <td>1</td>\n",
       "      <td>0</td>\n",
       "    </tr>\n",
       "    <tr>\n",
       "      <td>...</td>\n",
       "      <td>...</td>\n",
       "      <td>...</td>\n",
       "      <td>...</td>\n",
       "      <td>...</td>\n",
       "      <td>...</td>\n",
       "      <td>...</td>\n",
       "      <td>...</td>\n",
       "      <td>...</td>\n",
       "      <td>...</td>\n",
       "      <td>...</td>\n",
       "      <td>...</td>\n",
       "      <td>...</td>\n",
       "    </tr>\n",
       "    <tr>\n",
       "      <td>4995</td>\n",
       "      <td>Cozy room in NYC</td>\n",
       "      <td>5164854</td>\n",
       "      <td>Manhattan</td>\n",
       "      <td>Harlem</td>\n",
       "      <td>40.82071</td>\n",
       "      <td>-73.93813</td>\n",
       "      <td>Private room</td>\n",
       "      <td>45</td>\n",
       "      <td>6</td>\n",
       "      <td>13</td>\n",
       "      <td>8</td>\n",
       "      <td>346</td>\n",
       "    </tr>\n",
       "    <tr>\n",
       "      <td>4996</td>\n",
       "      <td>Bedroom in Williamsburg w/ Terrace</td>\n",
       "      <td>18105672</td>\n",
       "      <td>Brooklyn</td>\n",
       "      <td>Williamsburg</td>\n",
       "      <td>40.71659</td>\n",
       "      <td>-73.94580</td>\n",
       "      <td>Private room</td>\n",
       "      <td>90</td>\n",
       "      <td>30</td>\n",
       "      <td>1</td>\n",
       "      <td>1</td>\n",
       "      <td>0</td>\n",
       "    </tr>\n",
       "    <tr>\n",
       "      <td>4997</td>\n",
       "      <td>Bedr w Priv Bathr+Balc 15m frm city</td>\n",
       "      <td>6150064</td>\n",
       "      <td>Queens</td>\n",
       "      <td>Astoria</td>\n",
       "      <td>40.76972</td>\n",
       "      <td>-73.92060</td>\n",
       "      <td>Private room</td>\n",
       "      <td>85</td>\n",
       "      <td>2</td>\n",
       "      <td>2</td>\n",
       "      <td>1</td>\n",
       "      <td>0</td>\n",
       "    </tr>\n",
       "    <tr>\n",
       "      <td>4998</td>\n",
       "      <td>Charming bedroom in Comfy apt</td>\n",
       "      <td>18115202</td>\n",
       "      <td>Manhattan</td>\n",
       "      <td>East Village</td>\n",
       "      <td>40.72960</td>\n",
       "      <td>-73.99054</td>\n",
       "      <td>Private room</td>\n",
       "      <td>85</td>\n",
       "      <td>1</td>\n",
       "      <td>0</td>\n",
       "      <td>1</td>\n",
       "      <td>0</td>\n",
       "    </tr>\n",
       "    <tr>\n",
       "      <td>4999</td>\n",
       "      <td>Jackson Stayover Apt</td>\n",
       "      <td>18108212</td>\n",
       "      <td>Queens</td>\n",
       "      <td>St. Albans</td>\n",
       "      <td>40.69283</td>\n",
       "      <td>-73.75828</td>\n",
       "      <td>Entire home/apt</td>\n",
       "      <td>108</td>\n",
       "      <td>2</td>\n",
       "      <td>81</td>\n",
       "      <td>1</td>\n",
       "      <td>328</td>\n",
       "    </tr>\n",
       "  </tbody>\n",
       "</table>\n",
       "<p>5000 rows × 12 columns</p>\n",
       "</div>"
      ],
      "text/plain": [
       "                                                  name   host_id  \\\n",
       "0                   Clean & quiet apt home by the park      2787   \n",
       "1                                Skylit Midtown Castle      2845   \n",
       "2                  THE VILLAGE OF HARLEM....NEW YORK !      4632   \n",
       "3                      Cozy Entire Floor of Brownstone      4869   \n",
       "4     Entire Apt: Spacious Studio/Loft by central park      7192   \n",
       "...                                                ...       ...   \n",
       "4995                                  Cozy room in NYC   5164854   \n",
       "4996                Bedroom in Williamsburg w/ Terrace  18105672   \n",
       "4997               Bedr w Priv Bathr+Balc 15m frm city   6150064   \n",
       "4998                     Charming bedroom in Comfy apt  18115202   \n",
       "4999                              Jackson Stayover Apt  18108212   \n",
       "\n",
       "     neighbourhood_group neighbourhood  latitude  longitude        room_type  \\\n",
       "0               Brooklyn    Kensington  40.64749  -73.97237     Private room   \n",
       "1              Manhattan       Midtown  40.75362  -73.98377  Entire home/apt   \n",
       "2              Manhattan        Harlem  40.80902  -73.94190     Private room   \n",
       "3               Brooklyn  Clinton Hill  40.68514  -73.95976  Entire home/apt   \n",
       "4              Manhattan   East Harlem  40.79851  -73.94399  Entire home/apt   \n",
       "...                  ...           ...       ...        ...              ...   \n",
       "4995           Manhattan        Harlem  40.82071  -73.93813     Private room   \n",
       "4996            Brooklyn  Williamsburg  40.71659  -73.94580     Private room   \n",
       "4997              Queens       Astoria  40.76972  -73.92060     Private room   \n",
       "4998           Manhattan  East Village  40.72960  -73.99054     Private room   \n",
       "4999              Queens    St. Albans  40.69283  -73.75828  Entire home/apt   \n",
       "\n",
       "      price  minimum_nights  number_of_reviews  \\\n",
       "0       149               1                  9   \n",
       "1       225               1                 45   \n",
       "2       150               3                  0   \n",
       "3        89               1                270   \n",
       "4        80              10                  9   \n",
       "...     ...             ...                ...   \n",
       "4995     45               6                 13   \n",
       "4996     90              30                  1   \n",
       "4997     85               2                  2   \n",
       "4998     85               1                  0   \n",
       "4999    108               2                 81   \n",
       "\n",
       "      calculated_host_listings_count  availability_365  \n",
       "0                                  6               365  \n",
       "1                                  2               355  \n",
       "2                                  1               365  \n",
       "3                                  1               194  \n",
       "4                                  1                 0  \n",
       "...                              ...               ...  \n",
       "4995                               8               346  \n",
       "4996                               1                 0  \n",
       "4997                               1                 0  \n",
       "4998                               1                 0  \n",
       "4999                               1               328  \n",
       "\n",
       "[5000 rows x 12 columns]"
      ]
     },
     "execution_count": 62,
     "metadata": {},
     "output_type": "execute_result"
    }
   ],
   "source": [
    "#Read the CSV file\n",
    "Bnb =dfairbnb.head(5000)\n",
    "Bnb"
   ]
  },
  {
   "cell_type": "code",
   "execution_count": 63,
   "metadata": {},
   "outputs": [],
   "source": [
    "#Transfer to Dataframe\n",
    "dt=pd.DataFrame(Bnb['name'])\n",
    "dt = pd.DataFrame(' '.join(dt['name'].astype(str).tolist()), columns=['name'], index=[0])\n",
    "dt= dt.apply(lambda x: x.astype(str).str.lower())\n",
    "txt = dt['name'].astype(str)"
   ]
  },
  {
   "cell_type": "code",
   "execution_count": 64,
   "metadata": {},
   "outputs": [
    {
     "data": {
      "text/plain": [
       "['clean',\n",
       " 'quiet',\n",
       " 'apt',\n",
       " 'home',\n",
       " 'park',\n",
       " 'skylit',\n",
       " 'midtown',\n",
       " 'castle',\n",
       " 'village',\n",
       " 'harlem',\n",
       " 'york',\n",
       " 'cozy',\n",
       " 'entire',\n",
       " 'floor',\n",
       " 'brownstone',\n",
       " 'entire',\n",
       " 'apt',\n",
       " 'spacious',\n",
       " 'central',\n",
       " 'park',\n",
       " 'large',\n",
       " 'cozy',\n",
       " 'br',\n",
       " 'apartment',\n",
       " 'midtown',\n",
       " 'east',\n",
       " 'blissartsspace',\n",
       " 'large',\n",
       " 'furnished',\n",
       " 'room',\n",
       " 'near',\n",
       " 'cozy',\n",
       " 'clean',\n",
       " 'guest',\n",
       " 'room',\n",
       " 'family',\n",
       " 'apt',\n",
       " 'cute',\n",
       " 'cozy',\n",
       " 'lower',\n",
       " 'east',\n",
       " 'side',\n",
       " 'bdrm',\n",
       " 'beautiful',\n",
       " 'upper',\n",
       " 'west',\n",
       " 'side',\n",
       " 'central',\n",
       " 'broadway',\n",
       " 'lovely',\n",
       " 'room',\n",
       " 'garden',\n",
       " 'best',\n",
       " 'area',\n",
       " 'legal',\n",
       " 'rental',\n",
       " 'wonderful',\n",
       " 'guest',\n",
       " 'bedroom',\n",
       " 'manhattan',\n",
       " 'singles',\n",
       " 'west',\n",
       " 'village',\n",
       " 'nest',\n",
       " 'superhost',\n",
       " 'stops',\n",
       " 'manhattan',\n",
       " 'studio',\n",
       " 'perfect',\n",
       " 'parents',\n",
       " 'garden',\n",
       " 'chelsea',\n",
       " 'perfect',\n",
       " 'hip',\n",
       " 'historic',\n",
       " 'brownstone',\n",
       " 'apartment',\n",
       " 'backyard',\n",
       " 'huge',\n",
       " 'br',\n",
       " 'upper',\n",
       " 'east',\n",
       " 'cental',\n",
       " 'park',\n",
       " 'sweet',\n",
       " 'spacious',\n",
       " 'brooklyn',\n",
       " 'loft',\n",
       " 'cbg',\n",
       " 'ctybgd',\n",
       " 'helpshaiti',\n",
       " 'rm',\n",
       " 'cbg',\n",
       " 'helps',\n",
       " 'haiti',\n",
       " 'room',\n",
       " 'cbg',\n",
       " 'helps',\n",
       " 'haiti',\n",
       " 'rm',\n",
       " 'maison',\n",
       " 'des',\n",
       " 'bohemian',\n",
       " 'apartment',\n",
       " 'sunny',\n",
       " 'bedroom',\n",
       " 'across',\n",
       " 'prospect',\n",
       " 'park',\n",
       " 'magnifique',\n",
       " 'suite',\n",
       " 'au',\n",
       " 'n',\n",
       " 'de',\n",
       " 'manhattan',\n",
       " 'vue',\n",
       " 'cloitres',\n",
       " 'midtown',\n",
       " 'spacious',\n",
       " 'lovely',\n",
       " 'furnished',\n",
       " 'manhattan',\n",
       " 'bedroom',\n",
       " 'modern',\n",
       " 'br',\n",
       " 'nyc',\n",
       " 'east',\n",
       " 'village',\n",
       " 'front',\n",
       " 'bed',\n",
       " 'spacious',\n",
       " 'bedroom',\n",
       " 'luxe',\n",
       " 'building',\n",
       " 'loft',\n",
       " 'williamsburg',\n",
       " 'area',\n",
       " 'roof',\n",
       " 'back',\n",
       " 'beds',\n",
       " 'large',\n",
       " 'b',\n",
       " 'b',\n",
       " 'style',\n",
       " 'rooms',\n",
       " 'lovely',\n",
       " 'room',\n",
       " 'garden',\n",
       " 'best',\n",
       " 'area',\n",
       " 'legal',\n",
       " 'rental',\n",
       " 'clean',\n",
       " 'quiet',\n",
       " 'brooklyn',\n",
       " 'cute',\n",
       " 'apt',\n",
       " 'artist',\n",
       " 'home',\n",
       " 'country',\n",
       " 'space',\n",
       " 'city',\n",
       " 'lowereastside',\n",
       " 'apt',\n",
       " 'share',\n",
       " 'shortterm',\n",
       " 'enjoy',\n",
       " 'downtown',\n",
       " 'nyc',\n",
       " 'beautiful',\n",
       " 'sunny',\n",
       " 'park',\n",
       " 'slope',\n",
       " 'brooklyn',\n",
       " 'w',\n",
       " 'private',\n",
       " 'bath',\n",
       " 'lofty',\n",
       " 'apt',\n",
       " 'west',\n",
       " 'side',\n",
       " 'retreat',\n",
       " 'best',\n",
       " 'bet',\n",
       " 'harlem',\n",
       " 'entire',\n",
       " 'apartment',\n",
       " 'central',\n",
       " 'brooklyn',\n",
       " 'neighborhood',\n",
       " 'stop',\n",
       " 'fr',\n",
       " 'manhattan',\n",
       " 'private',\n",
       " 'suite',\n",
       " 'landmark',\n",
       " 'block',\n",
       " 'charming',\n",
       " 'brownstone',\n",
       " 'near',\n",
       " 'pratt',\n",
       " 'bright',\n",
       " 'stylish',\n",
       " 'duplex',\n",
       " 'fort',\n",
       " 'greene',\n",
       " 'brownstone',\n",
       " 'blue',\n",
       " 'room',\n",
       " 'brownstone',\n",
       " 'monthly',\n",
       " 'cozy',\n",
       " 'central',\n",
       " 'park',\n",
       " 'west',\n",
       " 'new',\n",
       " 'york',\n",
       " 'city',\n",
       " 'original',\n",
       " 'brooklyn',\n",
       " 'loft',\n",
       " 'greenpoint',\n",
       " 'place',\n",
       " 'beautiful',\n",
       " 'apartment',\n",
       " 'manhattan',\n",
       " 'williamsburg',\n",
       " 'bedroom',\n",
       " 'apartment',\n",
       " 'great',\n",
       " 'location',\n",
       " 'manhattan',\n",
       " 'bedroom',\n",
       " 'best',\n",
       " 'location',\n",
       " 'nyc',\n",
       " 'times',\n",
       " 'square',\n",
       " 'room',\n",
       " 'greenpoint',\n",
       " 'loft',\n",
       " 'roof',\n",
       " 'nolita',\n",
       " 'apt',\n",
       " 'w',\n",
       " 'cozy',\n",
       " 'place',\n",
       " 'sunny',\n",
       " 'spacious',\n",
       " 'chelsea',\n",
       " 'apartment',\n",
       " 'bedroom',\n",
       " 'upper',\n",
       " 'east',\n",
       " 'kids',\n",
       " 'comfortable',\n",
       " 'apt',\n",
       " 'family',\n",
       " 'house',\n",
       " 'double',\n",
       " 'room',\n",
       " 'w',\n",
       " 'private',\n",
       " 'deck',\n",
       " 'clinton',\n",
       " 'hill',\n",
       " 'best',\n",
       " 'area',\n",
       " 'heaven',\n",
       " 'hells',\n",
       " 'kitchen',\n",
       " 'duplex',\n",
       " 'heart',\n",
       " 'park',\n",
       " 'slope',\n",
       " 'sunny',\n",
       " 'modern',\n",
       " 'room',\n",
       " 'east',\n",
       " 'village',\n",
       " 'loft',\n",
       " 'entire',\n",
       " 'floor',\n",
       " 'six',\n",
       " 'windows',\n",
       " 'large',\n",
       " 'room',\n",
       " 'amazing',\n",
       " 'east',\n",
       " 'village',\n",
       " 'apt',\n",
       " 'spaha',\n",
       " 'loft',\n",
       " 'enormous',\n",
       " 'bright',\n",
       " 'lovely',\n",
       " 'ev',\n",
       " 'artist',\n",
       " 'home',\n",
       " 'cool',\n",
       " 'room',\n",
       " 'hell',\n",
       " 'kitchen',\n",
       " 'harlem',\n",
       " 'new',\n",
       " 'york',\n",
       " 'welcomes',\n",
       " 'blue',\n",
       " 'trim',\n",
       " 'guest',\n",
       " 'house',\n",
       " 'charming',\n",
       " 'east',\n",
       " 'village',\n",
       " 'one',\n",
       " 'bedroom',\n",
       " 'flat',\n",
       " 'manhattan',\n",
       " 'room',\n",
       " 'little',\n",
       " 'king',\n",
       " 'queens',\n",
       " 'fort',\n",
       " 'greene',\n",
       " 'retreat',\n",
       " 'park',\n",
       " 'beautiful',\n",
       " 'meatpacking',\n",
       " 'district',\n",
       " 'loft',\n",
       " 'cozy',\n",
       " 'br',\n",
       " 'williamsburg',\n",
       " 'spacious',\n",
       " 'luminous',\n",
       " 'apt',\n",
       " 'upper',\n",
       " 'west',\n",
       " 'nyc',\n",
       " 'entire',\n",
       " 'bedroom',\n",
       " 'large',\n",
       " 'sunny',\n",
       " 'sunny',\n",
       " 'spacious',\n",
       " 'top',\n",
       " 'floor',\n",
       " 'haven',\n",
       " 'private',\n",
       " 'room',\n",
       " 'great',\n",
       " 'deal',\n",
       " 'lower',\n",
       " 'east',\n",
       " 'side',\n",
       " 'perfect',\n",
       " 'family',\n",
       " 'small',\n",
       " 'group',\n",
       " 'bedroom',\n",
       " 'williamsburg',\n",
       " 'apt',\n",
       " 'bedford',\n",
       " 'l',\n",
       " 'stop',\n",
       " 'oh',\n",
       " 'glorious',\n",
       " 'spring',\n",
       " 'great',\n",
       " 'location',\n",
       " 'nyc',\n",
       " 'cozy',\n",
       " 'bedroom',\n",
       " 'williamsburg',\n",
       " 'br',\n",
       " 'sunny',\n",
       " 'office',\n",
       " 'huge',\n",
       " 'loft',\n",
       " 'spacious',\n",
       " 'prospect',\n",
       " 'heights',\n",
       " 'apartment',\n",
       " 'large',\n",
       " 'parlor',\n",
       " 'room',\n",
       " 'landmark',\n",
       " 'home',\n",
       " 'block',\n",
       " 'pratt',\n",
       " 'brownstone',\n",
       " 'duplex',\n",
       " 'garden',\n",
       " 'charming',\n",
       " 'bed',\n",
       " 'wburg',\n",
       " 'location',\n",
       " 'sunny',\n",
       " 'apartment',\n",
       " 'artist',\n",
       " 'home',\n",
       " 'classic',\n",
       " 'central',\n",
       " 'park',\n",
       " 'upper',\n",
       " 'manhattan',\n",
       " 'new',\n",
       " 'york',\n",
       " 'cozy',\n",
       " 'quiet',\n",
       " 'room',\n",
       " 'dooglers',\n",
       " 'stuydio',\n",
       " 'modern',\n",
       " 'light',\n",
       " 'filled',\n",
       " 'loft',\n",
       " 'bed',\n",
       " 'near',\n",
       " 'times',\n",
       " 'sq',\n",
       " 'house',\n",
       " 'henry',\n",
       " 'flr',\n",
       " 'suite',\n",
       " 'monkey',\n",
       " 'retreat',\n",
       " 'manhattan',\n",
       " 'sf',\n",
       " 'west',\n",
       " 'village',\n",
       " 'private',\n",
       " 'townhouse',\n",
       " 'subway',\n",
       " 'private',\n",
       " 'bath',\n",
       " 'balcony',\n",
       " 'beautiful',\n",
       " 'duplex',\n",
       " 'apartment',\n",
       " 'large',\n",
       " 'bedroom',\n",
       " 'great',\n",
       " 'groups',\n",
       " 'modern',\n",
       " 'brooklyn',\n",
       " 'august',\n",
       " 'sublet',\n",
       " 'sq',\n",
       " 'foot',\n",
       " 'luxury',\n",
       " 'building',\n",
       " 'sunny',\n",
       " 'brooklyn',\n",
       " 'townhouse',\n",
       " 'w',\n",
       " 'deck',\n",
       " 'garden',\n",
       " 'times',\n",
       " 'square',\n",
       " 'safe',\n",
       " 'clean',\n",
       " 'cozy',\n",
       " 'cozy',\n",
       " 'room',\n",
       " 'landmark',\n",
       " 'home',\n",
       " 'block',\n",
       " 'pratt',\n",
       " 'beautiful',\n",
       " 'apartment',\n",
       " 'east',\n",
       " 'village',\n",
       " 'park',\n",
       " 'slope',\n",
       " 'green',\n",
       " 'guest',\n",
       " 'house',\n",
       " 'br',\n",
       " 'bath',\n",
       " 'duplex',\n",
       " 'apt',\n",
       " 'patio',\n",
       " 'east',\n",
       " 'village',\n",
       " 'nyc',\n",
       " 'fabulous',\n",
       " 'views',\n",
       " 'manhattan',\n",
       " 'eye',\n",
       " 'story',\n",
       " 'family',\n",
       " 'home',\n",
       " 'williamsburg',\n",
       " 'comfortable',\n",
       " 'uws',\n",
       " 'brownstone',\n",
       " 'great',\n",
       " 'large',\n",
       " 'br',\n",
       " 'apt',\n",
       " 'east',\n",
       " 'village',\n",
       " 'eveland',\n",
       " 'private',\n",
       " 'bed',\n",
       " 'living',\n",
       " 'room',\n",
       " 'entrance',\n",
       " 'sugar',\n",
       " 'hill',\n",
       " 'rest',\n",
       " 'stop',\n",
       " 'story',\n",
       " 'town',\n",
       " 'house',\n",
       " 'park',\n",
       " 'slope',\n",
       " 'apartment',\n",
       " 'next',\n",
       " 'central',\n",
       " 'park',\n",
       " 'east',\n",
       " 'village',\n",
       " 'sanctuary',\n",
       " 'large',\n",
       " 'br',\n",
       " 'br',\n",
       " 'brooklyn',\n",
       " 'apt',\n",
       " 'next',\n",
       " 'q',\n",
       " 'trn',\n",
       " 'modern',\n",
       " 'apt',\n",
       " 'spectacular',\n",
       " 'views',\n",
       " 'garden',\n",
       " 'studio',\n",
       " 'upper',\n",
       " 'east',\n",
       " 'sid',\n",
       " 'secluded',\n",
       " 'master',\n",
       " 'bedroom',\n",
       " 'beautiful',\n",
       " 'huge',\n",
       " 'apt',\n",
       " 'b',\n",
       " 'b',\n",
       " 'room',\n",
       " 'accommodations',\n",
       " 'galore',\n",
       " 'sunny',\n",
       " 'room',\n",
       " 'new',\n",
       " 'condo',\n",
       " 'stylish',\n",
       " 'sleek',\n",
       " 'apartment',\n",
       " 'near',\n",
       " 'soho',\n",
       " 'nyc',\n",
       " 'artists',\n",
       " 'loft',\n",
       " 'roof',\n",
       " 'deck',\n",
       " 'unique',\n",
       " 'charming',\n",
       " 'small',\n",
       " 'apt',\n",
       " 'les',\n",
       " 'central',\n",
       " 'location',\n",
       " 'luminous',\n",
       " 'beautiful',\n",
       " 'west',\n",
       " 'village',\n",
       " 'studio',\n",
       " 'sanctuary',\n",
       " 'east',\n",
       " 'flatbush',\n",
       " 'room',\n",
       " 'en',\n",
       " 'suite',\n",
       " 'bathroom',\n",
       " 'deck',\n",
       " 'flat',\n",
       " 'macdonough',\n",
       " 'huge',\n",
       " 'private',\n",
       " 'floor',\n",
       " 'waverly',\n",
       " 'modern',\n",
       " 'greenpoint',\n",
       " 'brooklyn',\n",
       " 'apt',\n",
       " 'artsy',\n",
       " 'modernist',\n",
       " 'bdrm',\n",
       " 'duplex',\n",
       " 'sunny',\n",
       " 'cobble',\n",
       " 'hill',\n",
       " 'apartment',\n",
       " 'fully',\n",
       " 'furnished',\n",
       " 'basement',\n",
       " 'apartment',\n",
       " 'flat',\n",
       " 'macdonough',\n",
       " 'garden',\n",
       " 'light',\n",
       " 'filled',\n",
       " 'williamsburg',\n",
       " 'apartment',\n",
       " 'retreat',\n",
       " 'williamsburg',\n",
       " 'nyc',\n",
       " 'zen',\n",
       " 'cozy',\n",
       " 'br',\n",
       " 'wiliamsburg',\n",
       " 'bedroom',\n",
       " 'sunny',\n",
       " 'room',\n",
       " 'old',\n",
       " 'historical',\n",
       " 'brooklyn',\n",
       " 'townhouse',\n",
       " 'sun',\n",
       " 'filled',\n",
       " 'classic',\n",
       " 'west',\n",
       " 'village',\n",
       " 'apt',\n",
       " 'lg',\n",
       " 'rm',\n",
       " 'historic',\n",
       " 'prospect',\n",
       " 'heights',\n",
       " 'classic',\n",
       " 'artist',\n",
       " 'loft',\n",
       " 'williamsburg',\n",
       " 'great',\n",
       " 'location',\n",
       " 'spacious',\n",
       " 'prospect',\n",
       " 'park',\n",
       " 'private',\n",
       " 'new',\n",
       " 'elevator',\n",
       " 'sunny',\n",
       " 'clean',\n",
       " 'bdrm',\n",
       " 'village',\n",
       " 'great',\n",
       " 'location',\n",
       " 'williamsburg',\n",
       " 'light',\n",
       " 'airy',\n",
       " 'upper',\n",
       " 'east',\n",
       " 'side',\n",
       " 'bdr',\n",
       " 'apartment',\n",
       " 'luxury',\n",
       " 'brownstone',\n",
       " 'boerum',\n",
       " 'hill',\n",
       " 'central',\n",
       " 'park',\n",
       " 'loft',\n",
       " 'share',\n",
       " 'williamsburg',\n",
       " 'room',\n",
       " 'manhattan',\n",
       " 'view',\n",
       " 'longer',\n",
       " 'stay',\n",
       " 'private',\n",
       " 'large',\n",
       " 'sunny',\n",
       " 'd',\n",
       " 'luxurious',\n",
       " 'condo',\n",
       " 'dubmo',\n",
       " 'view',\n",
       " 'charming',\n",
       " 'cozy',\n",
       " 'midtown',\n",
       " 'loft',\n",
       " 'week',\n",
       " 'ends',\n",
       " 'spacious',\n",
       " 'garden',\n",
       " 'park',\n",
       " 'slope',\n",
       " 'people',\n",
       " 'max',\n",
       " 'convenient',\n",
       " 'cozy',\n",
       " 'cheap',\n",
       " 'apt',\n",
       " 'manhattan',\n",
       " 'parlor',\n",
       " 'room',\n",
       " 'victorian',\n",
       " 'townhouse',\n",
       " 'house',\n",
       " 'henry',\n",
       " 'flr',\n",
       " 'suite',\n",
       " 'new',\n",
       " 'york',\n",
       " 'room',\n",
       " 'view',\n",
       " 'sunny',\n",
       " 'cozy',\n",
       " 'room',\n",
       " 'brklyn',\n",
       " 'townhouse',\n",
       " 'room',\n",
       " 'view',\n",
       " 'loft',\n",
       " 'west',\n",
       " 'inn',\n",
       " 'east',\n",
       " 'village',\n",
       " 'financial',\n",
       " 'district',\n",
       " 'luxury',\n",
       " 'loft',\n",
       " 'brooklyn',\n",
       " 'victorian',\n",
       " 'style',\n",
       " 'suite',\n",
       " 'lovely',\n",
       " 'west',\n",
       " 'village',\n",
       " 'studio',\n",
       " 'accommodations',\n",
       " 'galore',\n",
       " 'guests',\n",
       " 'greenwich',\n",
       " 'village',\n",
       " 'stylish',\n",
       " 'apartment',\n",
       " 'clean',\n",
       " 'cozy',\n",
       " 'harlem',\n",
       " 'apartment',\n",
       " 'fort',\n",
       " 'greene',\n",
       " 'brooklyn',\n",
       " 'center',\n",
       " 'bedroom',\n",
       " 'beautiful',\n",
       " 'queens',\n",
       " 'brownstone',\n",
       " 'closer',\n",
       " 'columbia',\n",
       " 'uni',\n",
       " 'bright',\n",
       " 'spacious',\n",
       " 'luxury',\n",
       " 'condo',\n",
       " 'park',\n",
       " 'slope',\n",
       " 'haven',\n",
       " 'mins',\n",
       " 'soho',\n",
       " 'safe',\n",
       " 'beautiful',\n",
       " 'accomodation',\n",
       " 'large',\n",
       " 'room',\n",
       " 'private',\n",
       " 'brownstone',\n",
       " 'park',\n",
       " 'slope',\n",
       " 'new',\n",
       " 'york',\n",
       " 'city',\n",
       " 'bdrm',\n",
       " 'near',\n",
       " 'central',\n",
       " 'park',\n",
       " 'metro',\n",
       " 'large',\n",
       " 'comfy',\n",
       " 'chelsea',\n",
       " 'studio',\n",
       " 'sublet',\n",
       " 'months',\n",
       " 'lux',\n",
       " 'apt',\n",
       " 'times',\n",
       " 'square',\n",
       " 'new',\n",
       " 'building',\n",
       " 'designer',\n",
       " 'br',\n",
       " 'duplex',\n",
       " 'spectacular',\n",
       " 'views',\n",
       " 'lovely',\n",
       " 'apt',\n",
       " 'garden',\n",
       " 'legal',\n",
       " 'best',\n",
       " 'area',\n",
       " 'amenities',\n",
       " 'bedroom',\n",
       " 'bdrm',\n",
       " 'upper',\n",
       " 'east',\n",
       " 'lower',\n",
       " 'east',\n",
       " 'side',\n",
       " 'prime',\n",
       " 'location',\n",
       " 'manhattan',\n",
       " 'f',\n",
       " 'rm',\n",
       " 'quiet',\n",
       " 'sunny',\n",
       " 'midtown',\n",
       " 'manhattan',\n",
       " 'apt',\n",
       " 'big',\n",
       " 'cozy',\n",
       " 'studio',\n",
       " 'parking',\n",
       " 'spot',\n",
       " 'clean',\n",
       " 'convenient',\n",
       " 'apartment',\n",
       " 'floors',\n",
       " 'luxury',\n",
       " 'williamsburg',\n",
       " 'midtown',\n",
       " 'west',\n",
       " 'large',\n",
       " 'alcove',\n",
       " 'studio',\n",
       " 'beautiful',\n",
       " 'uptown',\n",
       " 'manhattan',\n",
       " 'apartmnt',\n",
       " 'sml',\n",
       " 'rm',\n",
       " 'pr',\n",
       " 'brst',\n",
       " 'park',\n",
       " 'sl',\n",
       " 'great',\n",
       " 'city',\n",
       " 'room',\n",
       " 'private',\n",
       " 'penthouse',\n",
       " 'apt',\n",
       " 'cozy',\n",
       " 'bedroom',\n",
       " 'yankee',\n",
       " 'stadium',\n",
       " 'great',\n",
       " 'apartment',\n",
       " 'private',\n",
       " 'bathroom',\n",
       " 'entrance',\n",
       " 'private',\n",
       " 'garden',\n",
       " 'apt',\n",
       " 'new',\n",
       " 'renovation',\n",
       " 'modern',\n",
       " 'comfort',\n",
       " 'art',\n",
       " 'infused',\n",
       " 'landmark',\n",
       " 'brownstone',\n",
       " 'village',\n",
       " 'private',\n",
       " 'bath',\n",
       " 'sleek',\n",
       " 'comfortable',\n",
       " 'soho',\n",
       " 'apt',\n",
       " 'spacious',\n",
       " 'williamsburg',\n",
       " 'share',\n",
       " 'loft',\n",
       " 'bed',\n",
       " 'cozy',\n",
       " 'br',\n",
       " 'sunny',\n",
       " 'fort',\n",
       " 'greene',\n",
       " 'apt',\n",
       " 'cozy',\n",
       " 'east',\n",
       " 'village',\n",
       " 'railroad',\n",
       " 'bed',\n",
       " 'bedroom',\n",
       " 'loft',\n",
       " 'private',\n",
       " 'roof',\n",
       " 'deck',\n",
       " 'city',\n",
       " 'room',\n",
       " 'private',\n",
       " 'comfy',\n",
       " 'bedroom',\n",
       " 'elegant',\n",
       " 'nyc',\n",
       " 'pad',\n",
       " 'clean',\n",
       " 'bright',\n",
       " 'cobble',\n",
       " 'hill',\n",
       " 'great',\n",
       " 'location',\n",
       " 'modern',\n",
       " 'large',\n",
       " 'east',\n",
       " 'village',\n",
       " 'loft',\n",
       " 'great',\n",
       " 'new',\n",
       " 'apt',\n",
       " 'close',\n",
       " 'everything',\n",
       " 'quiet',\n",
       " 'clean',\n",
       " 'retreat',\n",
       " 'city',\n",
       " 'stylish',\n",
       " 'large',\n",
       " 'gramercy',\n",
       " 'loft',\n",
       " 'bd',\n",
       " 'private',\n",
       " 'room',\n",
       " 'historic',\n",
       " 'sugar',\n",
       " 'hill',\n",
       " 'south',\n",
       " 'slope',\n",
       " 'green',\n",
       " 'flr',\n",
       " 'manhattan',\n",
       " 'views',\n",
       " 'nr',\n",
       " 'subway',\n",
       " 'spacious',\n",
       " 'adorable',\n",
       " 'clean',\n",
       " 'quiet',\n",
       " 'nice',\n",
       " 'clean',\n",
       " 'safe',\n",
       " 'convenient',\n",
       " 'franklin',\n",
       " 'st',\n",
       " 'flat',\n",
       " 'trendy',\n",
       " 'greenpoint',\n",
       " 'brooklyn',\n",
       " 'artistic',\n",
       " 'cozy',\n",
       " 'spacious',\n",
       " 'patio',\n",
       " 'sleeps',\n",
       " 'one',\n",
       " 'bedroom',\n",
       " 'apt',\n",
       " 'nyc',\n",
       " 'beautiful',\n",
       " 'elegant',\n",
       " 'bed',\n",
       " 'soho',\n",
       " 'loft',\n",
       " 'spacious',\n",
       " 'greenwich',\n",
       " 'village',\n",
       " 'apt',\n",
       " 'spaha',\n",
       " 'studio',\n",
       " 'monthly',\n",
       " 'rental',\n",
       " 'city',\n",
       " 'room',\n",
       " 'private',\n",
       " 'luxury',\n",
       " 'suite',\n",
       " 'private',\n",
       " 'luxurious',\n",
       " ...]"
      ]
     },
     "execution_count": 64,
     "metadata": {},
     "output_type": "execute_result"
    }
   ],
   "source": [
    "# importing word_tokenize from nltk and stop_words from get_stop_words\n",
    "from nltk.tokenize import word_tokenize\n",
    "from stop_words import get_stop_words\n",
    "\n",
    "# Passing the string text into word tokenize for breaking the sentences\n",
    "token = word_tokenize(txt[0])\n",
    "\n",
    "#Gets all the Stop words in English Language and remove it from the token\n",
    "stop_words = get_stop_words('english')\n",
    "token = [x for x in token if x not in stop_words]\n",
    "\n",
    "#Remove all the special characters and numbers from the token\n",
    "token = [x for x in token if x.isalpha()==True]\n",
    "token"
   ]
  },
  {
   "cell_type": "code",
   "execution_count": 65,
   "metadata": {},
   "outputs": [
    {
     "data": {
      "text/html": [
       "<div>\n",
       "<style scoped>\n",
       "    .dataframe tbody tr th:only-of-type {\n",
       "        vertical-align: middle;\n",
       "    }\n",
       "\n",
       "    .dataframe tbody tr th {\n",
       "        vertical-align: top;\n",
       "    }\n",
       "\n",
       "    .dataframe thead th {\n",
       "        text-align: right;\n",
       "    }\n",
       "</style>\n",
       "<table border=\"1\" class=\"dataframe\">\n",
       "  <thead>\n",
       "    <tr style=\"text-align: right;\">\n",
       "      <th></th>\n",
       "      <th>Word</th>\n",
       "      <th>Frequency</th>\n",
       "    </tr>\n",
       "  </thead>\n",
       "  <tbody>\n",
       "    <tr>\n",
       "      <td>0</td>\n",
       "      <td>room</td>\n",
       "      <td>788</td>\n",
       "    </tr>\n",
       "    <tr>\n",
       "      <td>1</td>\n",
       "      <td>apt</td>\n",
       "      <td>656</td>\n",
       "    </tr>\n",
       "    <tr>\n",
       "      <td>2</td>\n",
       "      <td>private</td>\n",
       "      <td>589</td>\n",
       "    </tr>\n",
       "    <tr>\n",
       "      <td>3</td>\n",
       "      <td>bedroom</td>\n",
       "      <td>588</td>\n",
       "    </tr>\n",
       "    <tr>\n",
       "      <td>4</td>\n",
       "      <td>apartment</td>\n",
       "      <td>503</td>\n",
       "    </tr>\n",
       "    <tr>\n",
       "      <td>5</td>\n",
       "      <td>brooklyn</td>\n",
       "      <td>408</td>\n",
       "    </tr>\n",
       "    <tr>\n",
       "      <td>6</td>\n",
       "      <td>studio</td>\n",
       "      <td>387</td>\n",
       "    </tr>\n",
       "    <tr>\n",
       "      <td>7</td>\n",
       "      <td>sunny</td>\n",
       "      <td>372</td>\n",
       "    </tr>\n",
       "    <tr>\n",
       "      <td>8</td>\n",
       "      <td>loft</td>\n",
       "      <td>370</td>\n",
       "    </tr>\n",
       "    <tr>\n",
       "      <td>9</td>\n",
       "      <td>park</td>\n",
       "      <td>360</td>\n",
       "    </tr>\n",
       "    <tr>\n",
       "      <td>10</td>\n",
       "      <td>cozy</td>\n",
       "      <td>355</td>\n",
       "    </tr>\n",
       "    <tr>\n",
       "      <td>11</td>\n",
       "      <td>village</td>\n",
       "      <td>350</td>\n",
       "    </tr>\n",
       "    <tr>\n",
       "      <td>12</td>\n",
       "      <td>east</td>\n",
       "      <td>337</td>\n",
       "    </tr>\n",
       "    <tr>\n",
       "      <td>13</td>\n",
       "      <td>spacious</td>\n",
       "      <td>332</td>\n",
       "    </tr>\n",
       "    <tr>\n",
       "      <td>14</td>\n",
       "      <td>williamsburg</td>\n",
       "      <td>319</td>\n",
       "    </tr>\n",
       "    <tr>\n",
       "      <td>15</td>\n",
       "      <td>nyc</td>\n",
       "      <td>271</td>\n",
       "    </tr>\n",
       "    <tr>\n",
       "      <td>16</td>\n",
       "      <td>manhattan</td>\n",
       "      <td>266</td>\n",
       "    </tr>\n",
       "    <tr>\n",
       "      <td>17</td>\n",
       "      <td>beautiful</td>\n",
       "      <td>257</td>\n",
       "    </tr>\n",
       "    <tr>\n",
       "      <td>18</td>\n",
       "      <td>large</td>\n",
       "      <td>249</td>\n",
       "    </tr>\n",
       "    <tr>\n",
       "      <td>19</td>\n",
       "      <td>west</td>\n",
       "      <td>191</td>\n",
       "    </tr>\n",
       "  </tbody>\n",
       "</table>\n",
       "</div>"
      ],
      "text/plain": [
       "            Word  Frequency\n",
       "0           room        788\n",
       "1            apt        656\n",
       "2        private        589\n",
       "3        bedroom        588\n",
       "4      apartment        503\n",
       "5       brooklyn        408\n",
       "6         studio        387\n",
       "7          sunny        372\n",
       "8           loft        370\n",
       "9           park        360\n",
       "10          cozy        355\n",
       "11       village        350\n",
       "12          east        337\n",
       "13      spacious        332\n",
       "14  williamsburg        319\n",
       "15           nyc        271\n",
       "16     manhattan        266\n",
       "17     beautiful        257\n",
       "18         large        249\n",
       "19          west        191"
      ]
     },
     "execution_count": 65,
     "metadata": {},
     "output_type": "execute_result"
    }
   ],
   "source": [
    "from nltk.probability import FreqDist\n",
    "#Finding the Frequency Distribution of a word\n",
    "fdist = FreqDist(token)\n",
    "fdist\n",
    "#Gets the top occuring tokens\n",
    "fdist1 = fdist.most_common(20)\n",
    "final_data=pd.DataFrame(fdist1,columns=['Word','Frequency'])\n",
    "final_data"
   ]
  },
  {
   "cell_type": "code",
   "execution_count": 66,
   "metadata": {},
   "outputs": [
    {
     "data": {
      "image/png": "[encoded data removed]",
      "text/plain": [
       "<Figure size 576x576 with 1 Axes>"
      ]
     },
     "metadata": {
      "needs_background": "light"
     },
     "output_type": "display_data"
    }
   ],
   "source": [
    "from wordcloud import WordCloud, STOPWORDS \n",
    "import matplotlib.pyplot as plt \n",
    "comment_words = ' '\n",
    "for words in final_data['Word']: \n",
    "    comment_words = comment_words + words + ' '\n",
    "wordcloud = WordCloud(width = 800, height = 700, \n",
    "                background_color ='white',  \n",
    "                min_font_size = 10).generate(comment_words) \n",
    "  \n",
    "# plot the WordCloud image                        \n",
    "plt.figure(figsize = (8, 8), facecolor = None) \n",
    "plt.imshow(wordcloud) \n",
    "plt.axis(\"off\") \n",
    "plt.tight_layout(pad = 10)  \n",
    "plt.show()"
   ]
  },
  {
   "cell_type": "code",
   "execution_count": 67,
   "metadata": {},
   "outputs": [],
   "source": [
    "# These are the most popular words used for host name,but they have no impact on the price. Since these are the most \n",
    "#frequently used words in posting an ad, One can use these words by anyone who is listing an airbnb."
   ]
  },
  {
   "cell_type": "markdown",
   "metadata": {},
   "source": [
    "### Representing Share Of Different neighbourhood groups"
   ]
  },
  {
   "cell_type": "code",
   "execution_count": 68,
   "metadata": {},
   "outputs": [
    {
     "data": {
      "image/png": "[encoded data removed]",
      "text/plain": [
       "<Figure size 864x648 with 1 Axes>"
      ]
     },
     "metadata": {
      "needs_background": "light"
     },
     "output_type": "display_data"
    }
   ],
   "source": [
    "# Longitude vs Latitude (Representing different neighbourhood groups)\n",
    "import numpy as np\n",
    "import matplotlib.pyplot as plt\n",
    "\n",
    "fig_size = plt.rcParams[\"figure.figsize\"]\n",
    " \n",
    "# Set figure width to 12 and height to 9\n",
    "fig_size[0] = 12\n",
    "fig_size[1] = 9\n",
    "#plt.rcParams[\"figure.figsize\"] = fig_size\n",
    "fig,ax = plt.subplots()\n",
    "groups = dfairbnb.groupby('neighbourhood_group')\n",
    "for name, group in groups:\n",
    "    ax.plot(group.longitude, group.latitude, marker='o', linestyle='', label=name)\n",
    "ax.legend(loc=2)\n",
    "ax.set_xlabel('longitude')\n",
    "ax.set_ylabel('latitude')\n",
    "plt.show()"
   ]
  },
  {
   "cell_type": "code",
   "execution_count": 69,
   "metadata": {},
   "outputs": [],
   "source": [
    "#The scatter plot given above has been plotted using latitude and longitude. The scatter plot helps to visualize the cluster of locations. \n",
    "#It helps to understand which area is more densely populate with AirBnb's."
   ]
  },
  {
   "cell_type": "code",
   "execution_count": 70,
   "metadata": {},
   "outputs": [
    {
     "data": {
      "image/png": "[encoded data removed]",
      "text/plain": [
       "<Figure size 432x288 with 1 Axes>"
      ]
     },
     "metadata": {},
     "output_type": "display_data"
    }
   ],
   "source": [
    "#representaion using Pie-Chart\n",
    "%matplotlib inline\n",
    "import matplotlib.pyplot as plt\n",
    "\n",
    "values = dfairbnb['neighbourhood_group'].value_counts()\n",
    "colors = ['b', 'g', 'r', 'c', 'm']\n",
    "explode = (0.1, 0.0, 0.0, 0.0, 0)\n",
    "dfairbnb['neighbourhood_group'].value_counts().plot.pie(explode=explode,autopct='%1.1f%%')\n",
    "plt.title('Share of Neighbourhood Group')\n",
    "\n",
    "plt.show()"
   ]
  },
  {
   "cell_type": "raw",
   "metadata": {},
   "source": [
    "The pie chart above represents the percentage of AirBnb's in different neighbourhoods from the total AirBnb's  in New York. As we can see Manhattan and Brooklyn have the most number of AirBnb's while the other neighbourhood groups combined constitute to only half of that of Brooklyn and Manhattan."
   ]
  },
  {
   "cell_type": "markdown",
   "metadata": {},
   "source": [
    "### Top 10 Most Popular Airbnb Hosts"
   ]
  },
  {
   "cell_type": "code",
   "execution_count": 71,
   "metadata": {},
   "outputs": [
    {
     "data": {
      "image/png": "[encoded data removed]",
      "text/plain": [
       "<Figure size 1152x360 with 1 Axes>"
      ]
     },
     "metadata": {
      "needs_background": "light"
     },
     "output_type": "display_data"
    }
   ],
   "source": [
    "dfairbnb1=dfairbnb.host_id.value_counts()[:10]\n",
    "f,ax = plt.subplots(figsize=(16,5))\n",
    "\n",
    "ax=dfairbnb1.plot(kind='bar')\n",
    "ax.set_xlabel('Host ID')\n",
    "ax.set_ylabel('Listings')\n",
    "ax.set_title(\"Top hosts on AIRBNB in NYC\")\n",
    "plt.show()\n"
   ]
  },
  {
   "cell_type": "raw",
   "metadata": {},
   "source": [
    "The number shown on the X-axis of the above graph is the Host ID of an AirBnB host. The bar graph shows top 10 hosts in an descending order based on their number of listings. The host with ID 219517861 is the top host from the dataset with more than 300 listings."
   ]
  },
  {
   "cell_type": "markdown",
   "metadata": {},
   "source": [
    "### Bar Graph to Show Number of Reviews at Each Location"
   ]
  },
  {
   "cell_type": "code",
   "execution_count": 72,
   "metadata": {},
   "outputs": [
    {
     "data": {
      "image/png": "[encoded data removed]",
      "text/plain": [
       "<Figure size 432x288 with 1 Axes>"
      ]
     },
     "metadata": {
      "needs_background": "light"
     },
     "output_type": "display_data"
    }
   ],
   "source": [
    "dfNoOfReviews=dfairbnb.groupby(['neighbourhood_group']).sum()\n",
    "\n",
    "ax = dfNoOfReviews.plot(y = 4, kind = \"bar\", color=['r','b','y','g','m'], legend=False)\n",
    "ax.set_ylabel('No of Reviews')\n",
    "ax.set_xlabel('Location Group')\n",
    "\n",
    "plt.title('Location wise total number of reviews')\n",
    "\n",
    "plt.show()"
   ]
  },
  {
   "cell_type": "raw",
   "metadata": {},
   "source": [
    "The bar graph above plots the number of reviews given in each location group. The bar graph resembles a normal distribution which is skewed to the right."
   ]
  },
  {
   "cell_type": "markdown",
   "metadata": {},
   "source": [
    "### Bar Graph to Show Location Wise Room Type Occupancy"
   ]
  },
  {
   "cell_type": "code",
   "execution_count": 73,
   "metadata": {},
   "outputs": [
    {
     "data": {
      "image/png": "[encoded data removed]",
      "text/plain": [
       "<Figure size 432x288 with 1 Axes>"
      ]
     },
     "metadata": {
      "needs_background": "light"
     },
     "output_type": "display_data"
    }
   ],
   "source": [
    "dfLocRoom = dfairbnb.groupby(['neighbourhood_group','room_type'])['room_type'].count().unstack()\n",
    "\n",
    "dfdraw = dfLocRoom.plot(kind = \"bar\")\n",
    "dfdraw.set_ylabel('Count of Airbnb')\n",
    "dfdraw.set_xlabel('Location Group')\n",
    "\n",
    "plt.title('Location wise room type occupancy')\n",
    "\n",
    "plt.show()"
   ]
  },
  {
   "cell_type": "raw",
   "metadata": {},
   "source": [
    "The bar graph above tracks the count on AirBnb's in each location depending on the type of room. It is evident from the graph that Manhattan has more of Entire home/apt type rooms and very few shared rooms."
   ]
  },
  {
   "cell_type": "markdown",
   "metadata": {},
   "source": [
    "# Average price of a room according to the neighbourhood"
   ]
  },
  {
   "cell_type": "code",
   "execution_count": 74,
   "metadata": {},
   "outputs": [
    {
     "data": {
      "image/png": "[encoded data removed]",
      "text/plain": [
       "<Figure size 432x288 with 1 Axes>"
      ]
     },
     "metadata": {
      "needs_background": "light"
     },
     "output_type": "display_data"
    }
   ],
   "source": [
    "%matplotlib inline  \n",
    "\n",
    "# this actually imports matplotlib\n",
    "import matplotlib.pyplot as plt  \n",
    "price_neighbourhood = dfairbnb.groupby(['neighbourhood_group'])['price'].agg('mean')\n",
    "ax = price_neighbourhood.plot(kind = \"bar\", color=['green','black','red','orange','purple'])\n",
    "ax.set_ylabel('Price')\n",
    "ax.set_xlabel('Neighbourhood group')\n",
    "\n",
    "plt.title('Average Price of a Room in a neighbourhood')\n",
    "\n",
    "plt.show()"
   ]
  },
  {
   "cell_type": "raw",
   "metadata": {},
   "source": [
    "From the barchat above we can see that average price of any  room is highest in Manhattan. Staten Island and Brooklyn have similar average prices followed by Queens and then Bronx. This graph resembles a normal distribution."
   ]
  },
  {
   "cell_type": "markdown",
   "metadata": {},
   "source": [
    "# Box plot to see price range for different types of rooms"
   ]
  },
  {
   "cell_type": "code",
   "execution_count": 75,
   "metadata": {},
   "outputs": [
    {
     "data": {
      "image/png": "[encoded data removed]",
      "text/plain": [
       "<Figure size 720x576 with 1 Axes>"
      ]
     },
     "metadata": {
      "needs_background": "light"
     },
     "output_type": "display_data"
    }
   ],
   "source": [
    "import matplotlib.pyplot as plt\n",
    "import numpy as np\n",
    "%matplotlib inline\n",
    "\n",
    "d3=dfairbnb.copy()\n",
    "ax=d3.boxplot(column='price', by='room_type', figsize=(10, 8),vert=False)\n",
    "ax.set_ylabel('Room Type')\n",
    "ax.set_xlabel('Price')\n",
    "\n",
    "plt.show()"
   ]
  },
  {
   "cell_type": "raw",
   "metadata": {},
   "source": [
    "The box plot above helps to visualize the price distribution according to the room type. For all the rooms, most rooms are in the price range of below $2000.Private room and Entire home/apt have outliers with both of them having rooms which cost $10,000.  "
   ]
  },
  {
   "cell_type": "code",
   "execution_count": 76,
   "metadata": {},
   "outputs": [
    {
     "data": {
      "application/vnd.plotly.v1+json": {
       "config": {
        "plotlyServerURL": "https://plot.ly"
       },
       "data": [
        {
         "diagonal": {
          "visible": false
         },
         "dimensions": [
          {
           "axis": {
            "matches": true
           },
           "label": "host_id",
           "values": [
            103737308.76781003,
            106039233.97081414,
            112345021.51666667,
            48621065.44360745,
            62435161.83725064,
            104052333.32603407,
            65580898.49992423,
            69823144.86720121,
            96667197.525,
            87132804.74045801,
            100816938.31465006,
            112319956.45959596,
            96187785.16477273,
            101753903.23404256,
            77138659.22222222
           ]
          },
          {
           "axis": {
            "matches": true
           },
           "label": "price",
           "values": [
            127.5065963060686,
            66.89093701996927,
            59.8,
            178.34620213433772,
            76.54542761208769,
            50.77372262773723,
            249.25799363539932,
            116.7766224004009,
            88.97708333333334,
            147.05057251908397,
            71.76245551601423,
            69.02020202020202,
            173.8465909090909,
            62.29255319148936,
            57.44444444444444
           ]
          },
          {
           "axis": {
            "matches": true
           },
           "label": "minimum_nights",
           "values": [
            5.95778364116095,
            3.8617511520737327,
            3.3666666666666667,
            6.531491943921322,
            5.541674896306538,
            7.644768856447689,
            10.539854523412638,
            5.446880481082435,
            6.766666666666667,
            5.369751908396947,
            5.120106761565836,
            4.232323232323233,
            6.238636363636363,
            3.632978723404255,
            2.3333333333333335
           ]
          },
          {
           "axis": {
            "matches": true
           },
           "label": "calculated_host_listings_count",
           "values": [
            1.8654353562005277,
            2.3364055299539173,
            3.4166666666666665,
            1.8379368068633606,
            2.545822634801501,
            6.172749391727494,
            18.924079405970602,
            3.188048108243548,
            3.8854166666666665,
            1.6779580152671756,
            5.559905100830368,
            3.7373737373737375,
            1.5965909090909092,
            2.8404255319148937,
            5.555555555555555
           ]
          },
          {
           "axis": {
            "matches": true
           },
           "label": "availability_365",
           "values": [
            158,
            171.39938556067588,
            154.21666666666667,
            97.20767943084327,
            99.9122062018566,
            177.72506082725062,
            117.14987119260493,
            101.84502630919569,
            138.57291666666666,
            132.26717557251908,
            149.22271648873073,
            192.18686868686868,
            178.07386363636363,
            226.36170212765958,
            64.77777777777777
           ]
          }
         ],
         "hoverlabel": {
          "namelength": 0
         },
         "hovertemplate": "%{xaxis.title.text}=%{x}<br>%{yaxis.title.text}=%{y}",
         "legendgroup": "",
         "marker": {
          "color": "#636efa",
          "symbol": "circle"
         },
         "name": "",
         "showlegend": false,
         "type": "splom"
        }
       ],
       "layout": {
        "dragmode": "select",
        "height": 1000,
        "legend": {
         "tracegroupgap": 0
        },
        "margin": {
         "t": 60
        },
        "template": {
         "data": {
          "bar": [
           {
            "error_x": {
             "color": "#2a3f5f"
            },
            "error_y": {
             "color": "#2a3f5f"
            },
            "marker": {
             "line": {
              "color": "#E5ECF6",
              "width": 0.5
             }
            },
            "type": "bar"
           }
          ],
          "barpolar": [
           {
            "marker": {
             "line": {
              "color": "#E5ECF6",
              "width": 0.5
             }
            },
            "type": "barpolar"
           }
          ],
          "carpet": [
           {
            "aaxis": {
             "endlinecolor": "#2a3f5f",
             "gridcolor": "white",
             "linecolor": "white",
             "minorgridcolor": "white",
             "startlinecolor": "#2a3f5f"
            },
            "baxis": {
             "endlinecolor": "#2a3f5f",
             "gridcolor": "white",
             "linecolor": "white",
             "minorgridcolor": "white",
             "startlinecolor": "#2a3f5f"
            },
            "type": "carpet"
           }
          ],
          "choropleth": [
           {
            "colorbar": {
             "outlinewidth": 0,
             "ticks": ""
            },
            "type": "choropleth"
           }
          ],
          "contour": [
           {
            "colorbar": {
             "outlinewidth": 0,
             "ticks": ""
            },
            "colorscale": [
             [
              0,
              "#0d0887"
             ],
             [
              0.1111111111111111,
              "#46039f"
             ],
             [
              0.2222222222222222,
              "#7201a8"
             ],
             [
              0.3333333333333333,
              "#9c179e"
             ],
             [
              0.4444444444444444,
              "#bd3786"
             ],
             [
              0.5555555555555556,
              "#d8576b"
             ],
             [
              0.6666666666666666,
              "#ed7953"
             ],
             [
              0.7777777777777778,
              "#fb9f3a"
             ],
             [
              0.8888888888888888,
              "#fdca26"
             ],
             [
              1,
              "#f0f921"
             ]
            ],
            "type": "contour"
           }
          ],
          "contourcarpet": [
           {
            "colorbar": {
             "outlinewidth": 0,
             "ticks": ""
            },
            "type": "contourcarpet"
           }
          ],
          "heatmap": [
           {
            "colorbar": {
             "outlinewidth": 0,
             "ticks": ""
            },
            "colorscale": [
             [
              0,
              "#0d0887"
             ],
             [
              0.1111111111111111,
              "#46039f"
             ],
             [
              0.2222222222222222,
              "#7201a8"
             ],
             [
              0.3333333333333333,
              "#9c179e"
             ],
             [
              0.4444444444444444,
              "#bd3786"
             ],
             [
              0.5555555555555556,
              "#d8576b"
             ],
             [
              0.6666666666666666,
              "#ed7953"
             ],
             [
              0.7777777777777778,
              "#fb9f3a"
             ],
             [
              0.8888888888888888,
              "#fdca26"
             ],
             [
              1,
              "#f0f921"
             ]
            ],
            "type": "heatmap"
           }
          ],
          "heatmapgl": [
           {
            "colorbar": {
             "outlinewidth": 0,
             "ticks": ""
            },
            "colorscale": [
             [
              0,
              "#0d0887"
             ],
             [
              0.1111111111111111,
              "#46039f"
             ],
             [
              0.2222222222222222,
              "#7201a8"
             ],
             [
              0.3333333333333333,
              "#9c179e"
             ],
             [
              0.4444444444444444,
              "#bd3786"
             ],
             [
              0.5555555555555556,
              "#d8576b"
             ],
             [
              0.6666666666666666,
              "#ed7953"
             ],
             [
              0.7777777777777778,
              "#fb9f3a"
             ],
             [
              0.8888888888888888,
              "#fdca26"
             ],
             [
              1,
              "#f0f921"
             ]
            ],
            "type": "heatmapgl"
           }
          ],
          "histogram": [
           {
            "marker": {
             "colorbar": {
              "outlinewidth": 0,
              "ticks": ""
             }
            },
            "type": "histogram"
           }
          ],
          "histogram2d": [
           {
            "colorbar": {
             "outlinewidth": 0,
             "ticks": ""
            },
            "colorscale": [
             [
              0,
              "#0d0887"
             ],
             [
              0.1111111111111111,
              "#46039f"
             ],
             [
              0.2222222222222222,
              "#7201a8"
             ],
             [
              0.3333333333333333,
              "#9c179e"
             ],
             [
              0.4444444444444444,
              "#bd3786"
             ],
             [
              0.5555555555555556,
              "#d8576b"
             ],
             [
              0.6666666666666666,
              "#ed7953"
             ],
             [
              0.7777777777777778,
              "#fb9f3a"
             ],
             [
              0.8888888888888888,
              "#fdca26"
             ],
             [
              1,
              "#f0f921"
             ]
            ],
            "type": "histogram2d"
           }
          ],
          "histogram2dcontour": [
           {
            "colorbar": {
             "outlinewidth": 0,
             "ticks": ""
            },
            "colorscale": [
             [
              0,
              "#0d0887"
             ],
             [
              0.1111111111111111,
              "#46039f"
             ],
             [
              0.2222222222222222,
              "#7201a8"
             ],
             [
              0.3333333333333333,
              "#9c179e"
             ],
             [
              0.4444444444444444,
              "#bd3786"
             ],
             [
              0.5555555555555556,
              "#d8576b"
             ],
             [
              0.6666666666666666,
              "#ed7953"
             ],
             [
              0.7777777777777778,
              "#fb9f3a"
             ],
             [
              0.8888888888888888,
              "#fdca26"
             ],
             [
              1,
              "#f0f921"
             ]
            ],
            "type": "histogram2dcontour"
           }
          ],
          "mesh3d": [
           {
            "colorbar": {
             "outlinewidth": 0,
             "ticks": ""
            },
            "type": "mesh3d"
           }
          ],
          "parcoords": [
           {
            "line": {
             "colorbar": {
              "outlinewidth": 0,
              "ticks": ""
             }
            },
            "type": "parcoords"
           }
          ],
          "scatter": [
           {
            "marker": {
             "colorbar": {
              "outlinewidth": 0,
              "ticks": ""
             }
            },
            "type": "scatter"
           }
          ],
          "scatter3d": [
           {
            "line": {
             "colorbar": {
              "outlinewidth": 0,
              "ticks": ""
             }
            },
            "marker": {
             "colorbar": {
              "outlinewidth": 0,
              "ticks": ""
             }
            },
            "type": "scatter3d"
           }
          ],
          "scattercarpet": [
           {
            "marker": {
             "colorbar": {
              "outlinewidth": 0,
              "ticks": ""
             }
            },
            "type": "scattercarpet"
           }
          ],
          "scattergeo": [
           {
            "marker": {
             "colorbar": {
              "outlinewidth": 0,
              "ticks": ""
             }
            },
            "type": "scattergeo"
           }
          ],
          "scattergl": [
           {
            "marker": {
             "colorbar": {
              "outlinewidth": 0,
              "ticks": ""
             }
            },
            "type": "scattergl"
           }
          ],
          "scattermapbox": [
           {
            "marker": {
             "colorbar": {
              "outlinewidth": 0,
              "ticks": ""
             }
            },
            "type": "scattermapbox"
           }
          ],
          "scatterpolar": [
           {
            "marker": {
             "colorbar": {
              "outlinewidth": 0,
              "ticks": ""
             }
            },
            "type": "scatterpolar"
           }
          ],
          "scatterpolargl": [
           {
            "marker": {
             "colorbar": {
              "outlinewidth": 0,
              "ticks": ""
             }
            },
            "type": "scatterpolargl"
           }
          ],
          "scatterternary": [
           {
            "marker": {
             "colorbar": {
              "outlinewidth": 0,
              "ticks": ""
             }
            },
            "type": "scatterternary"
           }
          ],
          "surface": [
           {
            "colorbar": {
             "outlinewidth": 0,
             "ticks": ""
            },
            "colorscale": [
             [
              0,
              "#0d0887"
             ],
             [
              0.1111111111111111,
              "#46039f"
             ],
             [
              0.2222222222222222,
              "#7201a8"
             ],
             [
              0.3333333333333333,
              "#9c179e"
             ],
             [
              0.4444444444444444,
              "#bd3786"
             ],
             [
              0.5555555555555556,
              "#d8576b"
             ],
             [
              0.6666666666666666,
              "#ed7953"
             ],
             [
              0.7777777777777778,
              "#fb9f3a"
             ],
             [
              0.8888888888888888,
              "#fdca26"
             ],
             [
              1,
              "#f0f921"
             ]
            ],
            "type": "surface"
           }
          ],
          "table": [
           {
            "cells": {
             "fill": {
              "color": "#EBF0F8"
             },
             "line": {
              "color": "white"
             }
            },
            "header": {
             "fill": {
              "color": "#C8D4E3"
             },
             "line": {
              "color": "white"
             }
            },
            "type": "table"
           }
          ]
         },
         "layout": {
          "annotationdefaults": {
           "arrowcolor": "#2a3f5f",
           "arrowhead": 0,
           "arrowwidth": 1
          },
          "colorscale": {
           "diverging": [
            [
             0,
             "#8e0152"
            ],
            [
             0.1,
             "#c51b7d"
            ],
            [
             0.2,
             "#de77ae"
            ],
            [
             0.3,
             "#f1b6da"
            ],
            [
             0.4,
             "#fde0ef"
            ],
            [
             0.5,
             "#f7f7f7"
            ],
            [
             0.6,
             "#e6f5d0"
            ],
            [
             0.7,
             "#b8e186"
            ],
            [
             0.8,
             "#7fbc41"
            ],
            [
             0.9,
             "#4d9221"
            ],
            [
             1,
             "#276419"
            ]
           ],
           "sequential": [
            [
             0,
             "#0d0887"
            ],
            [
             0.1111111111111111,
             "#46039f"
            ],
            [
             0.2222222222222222,
             "#7201a8"
            ],
            [
             0.3333333333333333,
             "#9c179e"
            ],
            [
             0.4444444444444444,
             "#bd3786"
            ],
            [
             0.5555555555555556,
             "#d8576b"
            ],
            [
             0.6666666666666666,
             "#ed7953"
            ],
            [
             0.7777777777777778,
             "#fb9f3a"
            ],
            [
             0.8888888888888888,
             "#fdca26"
            ],
            [
             1,
             "#f0f921"
            ]
           ],
           "sequentialminus": [
            [
             0,
             "#0d0887"
            ],
            [
             0.1111111111111111,
             "#46039f"
            ],
            [
             0.2222222222222222,
             "#7201a8"
            ],
            [
             0.3333333333333333,
             "#9c179e"
            ],
            [
             0.4444444444444444,
             "#bd3786"
            ],
            [
             0.5555555555555556,
             "#d8576b"
            ],
            [
             0.6666666666666666,
             "#ed7953"
            ],
            [
             0.7777777777777778,
             "#fb9f3a"
            ],
            [
             0.8888888888888888,
             "#fdca26"
            ],
            [
             1,
             "#f0f921"
            ]
           ]
          },
          "colorway": [
           "#636efa",
           "#EF553B",
           "#00cc96",
           "#ab63fa",
           "#FFA15A",
           "#19d3f3",
           "#FF6692",
           "#B6E880",
           "#FF97FF",
           "#FECB52"
          ],
          "font": {
           "color": "#2a3f5f"
          },
          "geo": {
           "bgcolor": "white",
           "lakecolor": "white",
           "landcolor": "#E5ECF6",
           "showlakes": true,
           "showland": true,
           "subunitcolor": "white"
          },
          "hoverlabel": {
           "align": "left"
          },
          "hovermode": "closest",
          "mapbox": {
           "style": "light"
          },
          "paper_bgcolor": "white",
          "plot_bgcolor": "#E5ECF6",
          "polar": {
           "angularaxis": {
            "gridcolor": "white",
            "linecolor": "white",
            "ticks": ""
           },
           "bgcolor": "#E5ECF6",
           "radialaxis": {
            "gridcolor": "white",
            "linecolor": "white",
            "ticks": ""
           }
          },
          "scene": {
           "xaxis": {
            "backgroundcolor": "#E5ECF6",
            "gridcolor": "white",
            "gridwidth": 2,
            "linecolor": "white",
            "showbackground": true,
            "ticks": "",
            "zerolinecolor": "white"
           },
           "yaxis": {
            "backgroundcolor": "#E5ECF6",
            "gridcolor": "white",
            "gridwidth": 2,
            "linecolor": "white",
            "showbackground": true,
            "ticks": "",
            "zerolinecolor": "white"
           },
           "zaxis": {
            "backgroundcolor": "#E5ECF6",
            "gridcolor": "white",
            "gridwidth": 2,
            "linecolor": "white",
            "showbackground": true,
            "ticks": "",
            "zerolinecolor": "white"
           }
          },
          "shapedefaults": {
           "line": {
            "color": "#2a3f5f"
           }
          },
          "ternary": {
           "aaxis": {
            "gridcolor": "white",
            "linecolor": "white",
            "ticks": ""
           },
           "baxis": {
            "gridcolor": "white",
            "linecolor": "white",
            "ticks": ""
           },
           "bgcolor": "#E5ECF6",
           "caxis": {
            "gridcolor": "white",
            "linecolor": "white",
            "ticks": ""
           }
          },
          "title": {
           "x": 0.05
          },
          "xaxis": {
           "automargin": true,
           "gridcolor": "white",
           "linecolor": "white",
           "ticks": "",
           "zerolinecolor": "white",
           "zerolinewidth": 2
          },
          "yaxis": {
           "automargin": true,
           "gridcolor": "white",
           "linecolor": "white",
           "ticks": "",
           "zerolinecolor": "white",
           "zerolinewidth": 2
          }
         }
        },
        "width": 900
       }
      },
      "text/html": [
       "<div>\n",
       "        \n",
       "        \n",
       "            <div id=\"f599255c-71f6-4946-bd00-05336c1388d6\" class=\"plotly-graph-div\" style=\"height:1000px; width:900px;\"></div>\n",
       "            <script type=\"text/javascript\">\n",
       "                require([\"plotly\"], function(Plotly) {\n",
       "                    window.PLOTLYENV=window.PLOTLYENV || {};\n",
       "                    \n",
       "                if (document.getElementById(\"f599255c-71f6-4946-bd00-05336c1388d6\")) {\n",
       "                    Plotly.newPlot(\n",
       "                        'f599255c-71f6-4946-bd00-05336c1388d6',\n",
       "                        [{\"diagonal\": {\"visible\": false}, \"dimensions\": [{\"axis\": {\"matches\": true}, \"label\": \"host_id\", \"values\": [103737308.76781003, 106039233.97081414, 112345021.51666667, 48621065.44360745, 62435161.83725064, 104052333.32603407, 65580898.49992423, 69823144.86720121, 96667197.525, 87132804.74045801, 100816938.31465006, 112319956.45959596, 96187785.16477273, 101753903.23404256, 77138659.22222222]}, {\"axis\": {\"matches\": true}, \"label\": \"price\", \"values\": [127.5065963060686, 66.89093701996927, 59.8, 178.34620213433772, 76.54542761208769, 50.77372262773723, 249.25799363539932, 116.7766224004009, 88.97708333333334, 147.05057251908397, 71.76245551601423, 69.02020202020202, 173.8465909090909, 62.29255319148936, 57.44444444444444]}, {\"axis\": {\"matches\": true}, \"label\": \"minimum_nights\", \"values\": [5.95778364116095, 3.8617511520737327, 3.3666666666666667, 6.531491943921322, 5.541674896306538, 7.644768856447689, 10.539854523412638, 5.446880481082435, 6.766666666666667, 5.369751908396947, 5.120106761565836, 4.232323232323233, 6.238636363636363, 3.632978723404255, 2.3333333333333335]}, {\"axis\": {\"matches\": true}, \"label\": \"calculated_host_listings_count\", \"values\": [1.8654353562005277, 2.3364055299539173, 3.4166666666666665, 1.8379368068633606, 2.545822634801501, 6.172749391727494, 18.924079405970602, 3.188048108243548, 3.8854166666666665, 1.6779580152671756, 5.559905100830368, 3.7373737373737375, 1.5965909090909092, 2.8404255319148937, 5.555555555555555]}, {\"axis\": {\"matches\": true}, \"label\": \"availability_365\", \"values\": [158.0, 171.39938556067588, 154.21666666666667, 97.20767943084327, 99.9122062018566, 177.72506082725062, 117.14987119260493, 101.84502630919569, 138.57291666666666, 132.26717557251908, 149.22271648873073, 192.18686868686868, 178.07386363636363, 226.36170212765958, 64.77777777777777]}], \"hoverlabel\": {\"namelength\": 0}, \"hovertemplate\": \"%{xaxis.title.text}=%{x}<br>%{yaxis.title.text}=%{y}\", \"legendgroup\": \"\", \"marker\": {\"color\": \"#636efa\", \"symbol\": \"circle\"}, \"name\": \"\", \"showlegend\": false, \"type\": \"splom\"}],\n",
       "                        {\"dragmode\": \"select\", \"height\": 1000, \"legend\": {\"tracegroupgap\": 0}, \"margin\": {\"t\": 60}, \"template\": {\"data\": {\"bar\": [{\"error_x\": {\"color\": \"#2a3f5f\"}, \"error_y\": {\"color\": \"#2a3f5f\"}, \"marker\": {\"line\": {\"color\": \"#E5ECF6\", \"width\": 0.5}}, \"type\": \"bar\"}], \"barpolar\": [{\"marker\": {\"line\": {\"color\": \"#E5ECF6\", \"width\": 0.5}}, \"type\": \"barpolar\"}], \"carpet\": [{\"aaxis\": {\"endlinecolor\": \"#2a3f5f\", \"gridcolor\": \"white\", \"linecolor\": \"white\", \"minorgridcolor\": \"white\", \"startlinecolor\": \"#2a3f5f\"}, \"baxis\": {\"endlinecolor\": \"#2a3f5f\", \"gridcolor\": \"white\", \"linecolor\": \"white\", \"minorgridcolor\": \"white\", \"startlinecolor\": \"#2a3f5f\"}, \"type\": \"carpet\"}], \"choropleth\": [{\"colorbar\": {\"outlinewidth\": 0, \"ticks\": \"\"}, \"type\": \"choropleth\"}], \"contour\": [{\"colorbar\": {\"outlinewidth\": 0, \"ticks\": \"\"}, \"colorscale\": [[0.0, \"#0d0887\"], [0.1111111111111111, \"#46039f\"], [0.2222222222222222, \"#7201a8\"], [0.3333333333333333, \"#9c179e\"], [0.4444444444444444, \"#bd3786\"], [0.5555555555555556, \"#d8576b\"], [0.6666666666666666, \"#ed7953\"], [0.7777777777777778, \"#fb9f3a\"], [0.8888888888888888, \"#fdca26\"], [1.0, \"#f0f921\"]], \"type\": \"contour\"}], \"contourcarpet\": [{\"colorbar\": {\"outlinewidth\": 0, \"ticks\": \"\"}, \"type\": \"contourcarpet\"}], \"heatmap\": [{\"colorbar\": {\"outlinewidth\": 0, \"ticks\": \"\"}, \"colorscale\": [[0.0, \"#0d0887\"], [0.1111111111111111, \"#46039f\"], [0.2222222222222222, \"#7201a8\"], [0.3333333333333333, \"#9c179e\"], [0.4444444444444444, \"#bd3786\"], [0.5555555555555556, \"#d8576b\"], [0.6666666666666666, \"#ed7953\"], [0.7777777777777778, \"#fb9f3a\"], [0.8888888888888888, \"#fdca26\"], [1.0, \"#f0f921\"]], \"type\": \"heatmap\"}], \"heatmapgl\": [{\"colorbar\": {\"outlinewidth\": 0, \"ticks\": \"\"}, \"colorscale\": [[0.0, \"#0d0887\"], [0.1111111111111111, \"#46039f\"], [0.2222222222222222, \"#7201a8\"], [0.3333333333333333, \"#9c179e\"], [0.4444444444444444, \"#bd3786\"], [0.5555555555555556, \"#d8576b\"], [0.6666666666666666, \"#ed7953\"], [0.7777777777777778, \"#fb9f3a\"], [0.8888888888888888, \"#fdca26\"], [1.0, \"#f0f921\"]], \"type\": \"heatmapgl\"}], \"histogram\": [{\"marker\": {\"colorbar\": {\"outlinewidth\": 0, \"ticks\": \"\"}}, \"type\": \"histogram\"}], \"histogram2d\": [{\"colorbar\": {\"outlinewidth\": 0, \"ticks\": \"\"}, \"colorscale\": [[0.0, \"#0d0887\"], [0.1111111111111111, \"#46039f\"], [0.2222222222222222, \"#7201a8\"], [0.3333333333333333, \"#9c179e\"], [0.4444444444444444, \"#bd3786\"], [0.5555555555555556, \"#d8576b\"], [0.6666666666666666, \"#ed7953\"], [0.7777777777777778, \"#fb9f3a\"], [0.8888888888888888, \"#fdca26\"], [1.0, \"#f0f921\"]], \"type\": \"histogram2d\"}], \"histogram2dcontour\": [{\"colorbar\": {\"outlinewidth\": 0, \"ticks\": \"\"}, \"colorscale\": [[0.0, \"#0d0887\"], [0.1111111111111111, \"#46039f\"], [0.2222222222222222, \"#7201a8\"], [0.3333333333333333, \"#9c179e\"], [0.4444444444444444, \"#bd3786\"], [0.5555555555555556, \"#d8576b\"], [0.6666666666666666, \"#ed7953\"], [0.7777777777777778, \"#fb9f3a\"], [0.8888888888888888, \"#fdca26\"], [1.0, \"#f0f921\"]], \"type\": \"histogram2dcontour\"}], \"mesh3d\": [{\"colorbar\": {\"outlinewidth\": 0, \"ticks\": \"\"}, \"type\": \"mesh3d\"}], \"parcoords\": [{\"line\": {\"colorbar\": {\"outlinewidth\": 0, \"ticks\": \"\"}}, \"type\": \"parcoords\"}], \"scatter\": [{\"marker\": {\"colorbar\": {\"outlinewidth\": 0, \"ticks\": \"\"}}, \"type\": \"scatter\"}], \"scatter3d\": [{\"line\": {\"colorbar\": {\"outlinewidth\": 0, \"ticks\": \"\"}}, \"marker\": {\"colorbar\": {\"outlinewidth\": 0, \"ticks\": \"\"}}, \"type\": \"scatter3d\"}], \"scattercarpet\": [{\"marker\": {\"colorbar\": {\"outlinewidth\": 0, \"ticks\": \"\"}}, \"type\": \"scattercarpet\"}], \"scattergeo\": [{\"marker\": {\"colorbar\": {\"outlinewidth\": 0, \"ticks\": \"\"}}, \"type\": \"scattergeo\"}], \"scattergl\": [{\"marker\": {\"colorbar\": {\"outlinewidth\": 0, \"ticks\": \"\"}}, \"type\": \"scattergl\"}], \"scattermapbox\": [{\"marker\": {\"colorbar\": {\"outlinewidth\": 0, \"ticks\": \"\"}}, \"type\": \"scattermapbox\"}], \"scatterpolar\": [{\"marker\": {\"colorbar\": {\"outlinewidth\": 0, \"ticks\": \"\"}}, \"type\": \"scatterpolar\"}], \"scatterpolargl\": [{\"marker\": {\"colorbar\": {\"outlinewidth\": 0, \"ticks\": \"\"}}, \"type\": \"scatterpolargl\"}], \"scatterternary\": [{\"marker\": {\"colorbar\": {\"outlinewidth\": 0, \"ticks\": \"\"}}, \"type\": \"scatterternary\"}], \"surface\": [{\"colorbar\": {\"outlinewidth\": 0, \"ticks\": \"\"}, \"colorscale\": [[0.0, \"#0d0887\"], [0.1111111111111111, \"#46039f\"], [0.2222222222222222, \"#7201a8\"], [0.3333333333333333, \"#9c179e\"], [0.4444444444444444, \"#bd3786\"], [0.5555555555555556, \"#d8576b\"], [0.6666666666666666, \"#ed7953\"], [0.7777777777777778, \"#fb9f3a\"], [0.8888888888888888, \"#fdca26\"], [1.0, \"#f0f921\"]], \"type\": \"surface\"}], \"table\": [{\"cells\": {\"fill\": {\"color\": \"#EBF0F8\"}, \"line\": {\"color\": \"white\"}}, \"header\": {\"fill\": {\"color\": \"#C8D4E3\"}, \"line\": {\"color\": \"white\"}}, \"type\": \"table\"}]}, \"layout\": {\"annotationdefaults\": {\"arrowcolor\": \"#2a3f5f\", \"arrowhead\": 0, \"arrowwidth\": 1}, \"colorscale\": {\"diverging\": [[0, \"#8e0152\"], [0.1, \"#c51b7d\"], [0.2, \"#de77ae\"], [0.3, \"#f1b6da\"], [0.4, \"#fde0ef\"], [0.5, \"#f7f7f7\"], [0.6, \"#e6f5d0\"], [0.7, \"#b8e186\"], [0.8, \"#7fbc41\"], [0.9, \"#4d9221\"], [1, \"#276419\"]], \"sequential\": [[0.0, \"#0d0887\"], [0.1111111111111111, \"#46039f\"], [0.2222222222222222, \"#7201a8\"], [0.3333333333333333, \"#9c179e\"], [0.4444444444444444, \"#bd3786\"], [0.5555555555555556, \"#d8576b\"], [0.6666666666666666, \"#ed7953\"], [0.7777777777777778, \"#fb9f3a\"], [0.8888888888888888, \"#fdca26\"], [1.0, \"#f0f921\"]], \"sequentialminus\": [[0.0, \"#0d0887\"], [0.1111111111111111, \"#46039f\"], [0.2222222222222222, \"#7201a8\"], [0.3333333333333333, \"#9c179e\"], [0.4444444444444444, \"#bd3786\"], [0.5555555555555556, \"#d8576b\"], [0.6666666666666666, \"#ed7953\"], [0.7777777777777778, \"#fb9f3a\"], [0.8888888888888888, \"#fdca26\"], [1.0, \"#f0f921\"]]}, \"colorway\": [\"#636efa\", \"#EF553B\", \"#00cc96\", \"#ab63fa\", \"#FFA15A\", \"#19d3f3\", \"#FF6692\", \"#B6E880\", \"#FF97FF\", \"#FECB52\"], \"font\": {\"color\": \"#2a3f5f\"}, \"geo\": {\"bgcolor\": \"white\", \"lakecolor\": \"white\", \"landcolor\": \"#E5ECF6\", \"showlakes\": true, \"showland\": true, \"subunitcolor\": \"white\"}, \"hoverlabel\": {\"align\": \"left\"}, \"hovermode\": \"closest\", \"mapbox\": {\"style\": \"light\"}, \"paper_bgcolor\": \"white\", \"plot_bgcolor\": \"#E5ECF6\", \"polar\": {\"angularaxis\": {\"gridcolor\": \"white\", \"linecolor\": \"white\", \"ticks\": \"\"}, \"bgcolor\": \"#E5ECF6\", \"radialaxis\": {\"gridcolor\": \"white\", \"linecolor\": \"white\", \"ticks\": \"\"}}, \"scene\": {\"xaxis\": {\"backgroundcolor\": \"#E5ECF6\", \"gridcolor\": \"white\", \"gridwidth\": 2, \"linecolor\": \"white\", \"showbackground\": true, \"ticks\": \"\", \"zerolinecolor\": \"white\"}, \"yaxis\": {\"backgroundcolor\": \"#E5ECF6\", \"gridcolor\": \"white\", \"gridwidth\": 2, \"linecolor\": \"white\", \"showbackground\": true, \"ticks\": \"\", \"zerolinecolor\": \"white\"}, \"zaxis\": {\"backgroundcolor\": \"#E5ECF6\", \"gridcolor\": \"white\", \"gridwidth\": 2, \"linecolor\": \"white\", \"showbackground\": true, \"ticks\": \"\", \"zerolinecolor\": \"white\"}}, \"shapedefaults\": {\"line\": {\"color\": \"#2a3f5f\"}}, \"ternary\": {\"aaxis\": {\"gridcolor\": \"white\", \"linecolor\": \"white\", \"ticks\": \"\"}, \"baxis\": {\"gridcolor\": \"white\", \"linecolor\": \"white\", \"ticks\": \"\"}, \"bgcolor\": \"#E5ECF6\", \"caxis\": {\"gridcolor\": \"white\", \"linecolor\": \"white\", \"ticks\": \"\"}}, \"title\": {\"x\": 0.05}, \"xaxis\": {\"automargin\": true, \"gridcolor\": \"white\", \"linecolor\": \"white\", \"ticks\": \"\", \"zerolinecolor\": \"white\", \"zerolinewidth\": 2}, \"yaxis\": {\"automargin\": true, \"gridcolor\": \"white\", \"linecolor\": \"white\", \"ticks\": \"\", \"zerolinecolor\": \"white\", \"zerolinewidth\": 2}}}, \"width\": 900},\n",
       "                        {\"responsive\": true}\n",
       "                    ).then(function(){\n",
       "                            \n",
       "var gd = document.getElementById('f599255c-71f6-4946-bd00-05336c1388d6');\n",
       "var x = new MutationObserver(function (mutations, observer) {{\n",
       "        var display = window.getComputedStyle(gd).display;\n",
       "        if (!display || display === 'none') {{\n",
       "            console.log([gd, 'removed!']);\n",
       "            Plotly.purge(gd);\n",
       "            observer.disconnect();\n",
       "        }}\n",
       "}});\n",
       "\n",
       "// Listen for the removal of the full notebook cells\n",
       "var notebookContainer = gd.closest('#notebook-container');\n",
       "if (notebookContainer) {{\n",
       "    x.observe(notebookContainer, {childList: true});\n",
       "}}\n",
       "\n",
       "// Listen for the clearing of the current output cell\n",
       "var outputEl = gd.closest('.output');\n",
       "if (outputEl) {{\n",
       "    x.observe(outputEl, {childList: true});\n",
       "}}\n",
       "\n",
       "                        })\n",
       "                };\n",
       "                });\n",
       "            </script>\n",
       "        </div>"
      ]
     },
     "metadata": {},
     "output_type": "display_data"
    }
   ],
   "source": [
    "dfGraph = dfairbnb.groupby(['neighbourhood_group','room_type']).mean()\n",
    "\n",
    "room_types_neighbourhoods = dfGraph.drop(['latitude','longitude','number_of_reviews'], axis = 1)\n",
    "room_types_neighbourhoods\n",
    "colorA = ['red','green','blue']\n",
    "fig = px.scatter_matrix(room_types_neighbourhoods,height=1000,width=900)\n",
    "fig.update_traces(diagonal_visible=False)\n",
    "fig.show()"
   ]
  },
  {
   "cell_type": "code",
   "execution_count": 77,
   "metadata": {},
   "outputs": [],
   "source": [
    "#There is no strong corelation amonge the defferent variables."
   ]
  },
  {
   "cell_type": "markdown",
   "metadata": {},
   "source": [
    "# Preprocessing and Preparing Data for Modeling "
   ]
  },
  {
   "cell_type": "code",
   "execution_count": 32,
   "metadata": {},
   "outputs": [
    {
     "data": {
      "text/html": [
       "<div>\n",
       "<style scoped>\n",
       "    .dataframe tbody tr th:only-of-type {\n",
       "        vertical-align: middle;\n",
       "    }\n",
       "\n",
       "    .dataframe tbody tr th {\n",
       "        vertical-align: top;\n",
       "    }\n",
       "\n",
       "    .dataframe thead th {\n",
       "        text-align: right;\n",
       "    }\n",
       "</style>\n",
       "<table border=\"1\" class=\"dataframe\">\n",
       "  <thead>\n",
       "    <tr style=\"text-align: right;\">\n",
       "      <th></th>\n",
       "      <th>name</th>\n",
       "      <th>neighbourhood_group</th>\n",
       "      <th>neighbourhood</th>\n",
       "      <th>latitude</th>\n",
       "      <th>longitude</th>\n",
       "      <th>room_type</th>\n",
       "      <th>price</th>\n",
       "      <th>minimum_nights</th>\n",
       "      <th>number_of_reviews</th>\n",
       "      <th>calculated_host_listings_count</th>\n",
       "      <th>availability_365</th>\n",
       "    </tr>\n",
       "  </thead>\n",
       "  <tbody>\n",
       "    <tr>\n",
       "      <td>24100</td>\n",
       "      <td>Girls only, cozy room one block from Times Square</td>\n",
       "      <td>Manhattan</td>\n",
       "      <td>Hell's Kitchen</td>\n",
       "      <td>40.75812</td>\n",
       "      <td>-73.98935</td>\n",
       "      <td>Shared room</td>\n",
       "      <td>10</td>\n",
       "      <td>1</td>\n",
       "      <td>2</td>\n",
       "      <td>1</td>\n",
       "      <td>0</td>\n",
       "    </tr>\n",
       "    <tr>\n",
       "      <td>32810</td>\n",
       "      <td>Gigantic Sunny Room in Park Slope-Private Back...</td>\n",
       "      <td>Brooklyn</td>\n",
       "      <td>Sunset Park</td>\n",
       "      <td>40.66242</td>\n",
       "      <td>-73.99464</td>\n",
       "      <td>Entire home/apt</td>\n",
       "      <td>10</td>\n",
       "      <td>1</td>\n",
       "      <td>14</td>\n",
       "      <td>1</td>\n",
       "      <td>4</td>\n",
       "    </tr>\n",
       "    <tr>\n",
       "      <td>33225</td>\n",
       "      <td>Voted #1 Airbnb In NYC</td>\n",
       "      <td>Queens</td>\n",
       "      <td>Jamaica</td>\n",
       "      <td>40.68939</td>\n",
       "      <td>-73.79886</td>\n",
       "      <td>Entire home/apt</td>\n",
       "      <td>10</td>\n",
       "      <td>2</td>\n",
       "      <td>22</td>\n",
       "      <td>1</td>\n",
       "      <td>332</td>\n",
       "    </tr>\n",
       "    <tr>\n",
       "      <td>31066</td>\n",
       "      <td>Very Spacious bedroom, steps from CENTRAL PARK.</td>\n",
       "      <td>Manhattan</td>\n",
       "      <td>Upper West Side</td>\n",
       "      <td>40.76844</td>\n",
       "      <td>-73.98333</td>\n",
       "      <td>Private room</td>\n",
       "      <td>10</td>\n",
       "      <td>1</td>\n",
       "      <td>2</td>\n",
       "      <td>1</td>\n",
       "      <td>0</td>\n",
       "    </tr>\n",
       "    <tr>\n",
       "      <td>35601</td>\n",
       "      <td>Charming, bright and brand new Bed-Stuy home</td>\n",
       "      <td>Brooklyn</td>\n",
       "      <td>Bedford-Stuyvesant</td>\n",
       "      <td>40.69508</td>\n",
       "      <td>-73.95164</td>\n",
       "      <td>Entire home/apt</td>\n",
       "      <td>10</td>\n",
       "      <td>3</td>\n",
       "      <td>5</td>\n",
       "      <td>1</td>\n",
       "      <td>0</td>\n",
       "    </tr>\n",
       "    <tr>\n",
       "      <td>...</td>\n",
       "      <td>...</td>\n",
       "      <td>...</td>\n",
       "      <td>...</td>\n",
       "      <td>...</td>\n",
       "      <td>...</td>\n",
       "      <td>...</td>\n",
       "      <td>...</td>\n",
       "      <td>...</td>\n",
       "      <td>...</td>\n",
       "      <td>...</td>\n",
       "      <td>...</td>\n",
       "    </tr>\n",
       "    <tr>\n",
       "      <td>46092</td>\n",
       "      <td>005 Comfy and Pleasant Shared Room</td>\n",
       "      <td>Staten Island</td>\n",
       "      <td>Concord</td>\n",
       "      <td>40.60625</td>\n",
       "      <td>-74.08900</td>\n",
       "      <td>Shared room</td>\n",
       "      <td>30</td>\n",
       "      <td>4</td>\n",
       "      <td>1</td>\n",
       "      <td>7</td>\n",
       "      <td>68</td>\n",
       "    </tr>\n",
       "    <tr>\n",
       "      <td>34069</td>\n",
       "      <td>Brooklyn Magic Bunk Share</td>\n",
       "      <td>Brooklyn</td>\n",
       "      <td>Bedford-Stuyvesant</td>\n",
       "      <td>40.69052</td>\n",
       "      <td>-73.94149</td>\n",
       "      <td>Shared room</td>\n",
       "      <td>30</td>\n",
       "      <td>1</td>\n",
       "      <td>32</td>\n",
       "      <td>17</td>\n",
       "      <td>83</td>\n",
       "    </tr>\n",
       "    <tr>\n",
       "      <td>16010</td>\n",
       "      <td>Sofa Bed Available in Midtown Manhattan</td>\n",
       "      <td>Manhattan</td>\n",
       "      <td>Hell's Kitchen</td>\n",
       "      <td>40.76455</td>\n",
       "      <td>-73.99128</td>\n",
       "      <td>Shared room</td>\n",
       "      <td>30</td>\n",
       "      <td>3</td>\n",
       "      <td>0</td>\n",
       "      <td>1</td>\n",
       "      <td>0</td>\n",
       "    </tr>\n",
       "    <tr>\n",
       "      <td>35099</td>\n",
       "      <td>Creative Bushwick - Cozy Private Room</td>\n",
       "      <td>Brooklyn</td>\n",
       "      <td>Bushwick</td>\n",
       "      <td>40.68880</td>\n",
       "      <td>-73.92015</td>\n",
       "      <td>Private room</td>\n",
       "      <td>30</td>\n",
       "      <td>1</td>\n",
       "      <td>18</td>\n",
       "      <td>1</td>\n",
       "      <td>93</td>\n",
       "    </tr>\n",
       "    <tr>\n",
       "      <td>20291</td>\n",
       "      <td>1 Bedroom w/ common space in 4br Loft in Bushwick</td>\n",
       "      <td>Brooklyn</td>\n",
       "      <td>Bedford-Stuyvesant</td>\n",
       "      <td>40.68712</td>\n",
       "      <td>-73.91847</td>\n",
       "      <td>Private room</td>\n",
       "      <td>30</td>\n",
       "      <td>7</td>\n",
       "      <td>0</td>\n",
       "      <td>1</td>\n",
       "      <td>0</td>\n",
       "    </tr>\n",
       "  </tbody>\n",
       "</table>\n",
       "<p>400 rows × 11 columns</p>\n",
       "</div>"
      ],
      "text/plain": [
       "                                                    name neighbourhood_group  \\\n",
       "24100  Girls only, cozy room one block from Times Square           Manhattan   \n",
       "32810  Gigantic Sunny Room in Park Slope-Private Back...            Brooklyn   \n",
       "33225                             Voted #1 Airbnb In NYC              Queens   \n",
       "31066    Very Spacious bedroom, steps from CENTRAL PARK.           Manhattan   \n",
       "35601       Charming, bright and brand new Bed-Stuy home            Brooklyn   \n",
       "...                                                  ...                 ...   \n",
       "46092                 005 Comfy and Pleasant Shared Room       Staten Island   \n",
       "34069                          Brooklyn Magic Bunk Share            Brooklyn   \n",
       "16010            Sofa Bed Available in Midtown Manhattan           Manhattan   \n",
       "35099              Creative Bushwick - Cozy Private Room            Brooklyn   \n",
       "20291  1 Bedroom w/ common space in 4br Loft in Bushwick            Brooklyn   \n",
       "\n",
       "            neighbourhood  latitude  longitude        room_type  price  \\\n",
       "24100      Hell's Kitchen  40.75812  -73.98935      Shared room     10   \n",
       "32810         Sunset Park  40.66242  -73.99464  Entire home/apt     10   \n",
       "33225             Jamaica  40.68939  -73.79886  Entire home/apt     10   \n",
       "31066     Upper West Side  40.76844  -73.98333     Private room     10   \n",
       "35601  Bedford-Stuyvesant  40.69508  -73.95164  Entire home/apt     10   \n",
       "...                   ...       ...        ...              ...    ...   \n",
       "46092             Concord  40.60625  -74.08900      Shared room     30   \n",
       "34069  Bedford-Stuyvesant  40.69052  -73.94149      Shared room     30   \n",
       "16010      Hell's Kitchen  40.76455  -73.99128      Shared room     30   \n",
       "35099            Bushwick  40.68880  -73.92015     Private room     30   \n",
       "20291  Bedford-Stuyvesant  40.68712  -73.91847     Private room     30   \n",
       "\n",
       "       minimum_nights  number_of_reviews  calculated_host_listings_count  \\\n",
       "24100               1                  2                               1   \n",
       "32810               1                 14                               1   \n",
       "33225               2                 22                               1   \n",
       "31066               1                  2                               1   \n",
       "35601               3                  5                               1   \n",
       "...               ...                ...                             ...   \n",
       "46092               4                  1                               7   \n",
       "34069               1                 32                              17   \n",
       "16010               3                  0                               1   \n",
       "35099               1                 18                               1   \n",
       "20291               7                  0                               1   \n",
       "\n",
       "       availability_365  \n",
       "24100                 0  \n",
       "32810                 4  \n",
       "33225               332  \n",
       "31066                 0  \n",
       "35601                 0  \n",
       "...                 ...  \n",
       "46092                68  \n",
       "34069                83  \n",
       "16010                 0  \n",
       "35099                93  \n",
       "20291                 0  \n",
       "\n",
       "[400 rows x 11 columns]"
      ]
     },
     "execution_count": 32,
     "metadata": {},
     "output_type": "execute_result"
    }
   ],
   "source": [
    "dfairbnb.drop([\"host_id\"], axis = 1, inplace = True)\n",
    "dfairbnb.drop( dfairbnb[ dfairbnb['price'] == 0 ].index , inplace=True)\n",
    "dfairbnb.sort_values(by=['price'],ascending=True).head(1000)\n",
    "dt = dfairbnb\n",
    "dt.sort_values(by=['price'],ascending=True).head(400)"
   ]
  },
  {
   "cell_type": "markdown",
   "metadata": {},
   "source": [
    "# Prediction modeling "
   ]
  },
  {
   "cell_type": "markdown",
   "metadata": {},
   "source": [
    "# Pairwise Correlation of Selected Variables in Dataset"
   ]
  },
  {
   "cell_type": "code",
   "execution_count": 43,
   "metadata": {},
   "outputs": [
    {
     "data": {
      "text/html": [
       "<div>\n",
       "<style scoped>\n",
       "    .dataframe tbody tr th:only-of-type {\n",
       "        vertical-align: middle;\n",
       "    }\n",
       "\n",
       "    .dataframe tbody tr th {\n",
       "        vertical-align: top;\n",
       "    }\n",
       "\n",
       "    .dataframe thead th {\n",
       "        text-align: right;\n",
       "    }\n",
       "</style>\n",
       "<table border=\"1\" class=\"dataframe\">\n",
       "  <thead>\n",
       "    <tr style=\"text-align: right;\">\n",
       "      <th></th>\n",
       "      <th>neighbourhood_group</th>\n",
       "      <th>neighbourhood</th>\n",
       "      <th>latitude</th>\n",
       "      <th>longitude</th>\n",
       "      <th>room_type</th>\n",
       "      <th>price</th>\n",
       "      <th>minimum_nights</th>\n",
       "      <th>number_of_reviews</th>\n",
       "      <th>calculated_host_listings_count</th>\n",
       "      <th>availability_365</th>\n",
       "    </tr>\n",
       "  </thead>\n",
       "  <tbody>\n",
       "    <tr>\n",
       "      <td>neighbourhood_group</td>\n",
       "      <td>1.000000</td>\n",
       "      <td>0.111187</td>\n",
       "      <td>0.279598</td>\n",
       "      <td>0.101364</td>\n",
       "      <td>-0.016104</td>\n",
       "      <td>0.044123</td>\n",
       "      <td>0.017409</td>\n",
       "      <td>0.002392</td>\n",
       "      <td>0.073666</td>\n",
       "      <td>0.080506</td>\n",
       "    </tr>\n",
       "    <tr>\n",
       "      <td>neighbourhood</td>\n",
       "      <td>0.111187</td>\n",
       "      <td>1.000000</td>\n",
       "      <td>0.234743</td>\n",
       "      <td>-0.102253</td>\n",
       "      <td>-0.071685</td>\n",
       "      <td>0.061967</td>\n",
       "      <td>0.026023</td>\n",
       "      <td>-0.038753</td>\n",
       "      <td>0.010326</td>\n",
       "      <td>-0.034581</td>\n",
       "    </tr>\n",
       "    <tr>\n",
       "      <td>latitude</td>\n",
       "      <td>0.279598</td>\n",
       "      <td>0.234743</td>\n",
       "      <td>1.000000</td>\n",
       "      <td>0.084830</td>\n",
       "      <td>0.006599</td>\n",
       "      <td>0.033899</td>\n",
       "      <td>0.024893</td>\n",
       "      <td>-0.016009</td>\n",
       "      <td>0.019518</td>\n",
       "      <td>-0.010942</td>\n",
       "    </tr>\n",
       "    <tr>\n",
       "      <td>longitude</td>\n",
       "      <td>0.101364</td>\n",
       "      <td>-0.102253</td>\n",
       "      <td>0.084830</td>\n",
       "      <td>1.000000</td>\n",
       "      <td>0.184192</td>\n",
       "      <td>-0.149954</td>\n",
       "      <td>-0.062772</td>\n",
       "      <td>0.058017</td>\n",
       "      <td>-0.114715</td>\n",
       "      <td>0.082669</td>\n",
       "    </tr>\n",
       "    <tr>\n",
       "      <td>room_type</td>\n",
       "      <td>-0.016104</td>\n",
       "      <td>-0.071685</td>\n",
       "      <td>0.006599</td>\n",
       "      <td>0.184192</td>\n",
       "      <td>1.000000</td>\n",
       "      <td>-0.249288</td>\n",
       "      <td>-0.069909</td>\n",
       "      <td>0.001465</td>\n",
       "      <td>-0.106073</td>\n",
       "      <td>0.022381</td>\n",
       "    </tr>\n",
       "    <tr>\n",
       "      <td>price</td>\n",
       "      <td>0.044123</td>\n",
       "      <td>0.061967</td>\n",
       "      <td>0.033899</td>\n",
       "      <td>-0.149954</td>\n",
       "      <td>-0.249288</td>\n",
       "      <td>1.000000</td>\n",
       "      <td>0.042805</td>\n",
       "      <td>-0.048273</td>\n",
       "      <td>0.057462</td>\n",
       "      <td>0.081847</td>\n",
       "    </tr>\n",
       "    <tr>\n",
       "      <td>minimum_nights</td>\n",
       "      <td>0.017409</td>\n",
       "      <td>0.026023</td>\n",
       "      <td>0.024893</td>\n",
       "      <td>-0.062772</td>\n",
       "      <td>-0.069909</td>\n",
       "      <td>0.042805</td>\n",
       "      <td>1.000000</td>\n",
       "      <td>-0.081163</td>\n",
       "      <td>0.127962</td>\n",
       "      <td>0.144275</td>\n",
       "    </tr>\n",
       "    <tr>\n",
       "      <td>number_of_reviews</td>\n",
       "      <td>0.002392</td>\n",
       "      <td>-0.038753</td>\n",
       "      <td>-0.016009</td>\n",
       "      <td>0.058017</td>\n",
       "      <td>0.001465</td>\n",
       "      <td>-0.048273</td>\n",
       "      <td>-0.081163</td>\n",
       "      <td>1.000000</td>\n",
       "      <td>-0.073536</td>\n",
       "      <td>0.173683</td>\n",
       "    </tr>\n",
       "    <tr>\n",
       "      <td>calculated_host_listings_count</td>\n",
       "      <td>0.073666</td>\n",
       "      <td>0.010326</td>\n",
       "      <td>0.019518</td>\n",
       "      <td>-0.114715</td>\n",
       "      <td>-0.106073</td>\n",
       "      <td>0.057462</td>\n",
       "      <td>0.127962</td>\n",
       "      <td>-0.073536</td>\n",
       "      <td>1.000000</td>\n",
       "      <td>0.225712</td>\n",
       "    </tr>\n",
       "    <tr>\n",
       "      <td>availability_365</td>\n",
       "      <td>0.080506</td>\n",
       "      <td>-0.034581</td>\n",
       "      <td>-0.010942</td>\n",
       "      <td>0.082669</td>\n",
       "      <td>0.022381</td>\n",
       "      <td>0.081847</td>\n",
       "      <td>0.144275</td>\n",
       "      <td>0.173683</td>\n",
       "      <td>0.225712</td>\n",
       "      <td>1.000000</td>\n",
       "    </tr>\n",
       "  </tbody>\n",
       "</table>\n",
       "</div>"
      ],
      "text/plain": [
       "                                neighbourhood_group  neighbourhood  latitude  \\\n",
       "neighbourhood_group                        1.000000       0.111187  0.279598   \n",
       "neighbourhood                              0.111187       1.000000  0.234743   \n",
       "latitude                                   0.279598       0.234743  1.000000   \n",
       "longitude                                  0.101364      -0.102253  0.084830   \n",
       "room_type                                 -0.016104      -0.071685  0.006599   \n",
       "price                                      0.044123       0.061967  0.033899   \n",
       "minimum_nights                             0.017409       0.026023  0.024893   \n",
       "number_of_reviews                          0.002392      -0.038753 -0.016009   \n",
       "calculated_host_listings_count             0.073666       0.010326  0.019518   \n",
       "availability_365                           0.080506      -0.034581 -0.010942   \n",
       "\n",
       "                                longitude  room_type     price  \\\n",
       "neighbourhood_group              0.101364  -0.016104  0.044123   \n",
       "neighbourhood                   -0.102253  -0.071685  0.061967   \n",
       "latitude                         0.084830   0.006599  0.033899   \n",
       "longitude                        1.000000   0.184192 -0.149954   \n",
       "room_type                        0.184192   1.000000 -0.249288   \n",
       "price                           -0.149954  -0.249288  1.000000   \n",
       "minimum_nights                  -0.062772  -0.069909  0.042805   \n",
       "number_of_reviews                0.058017   0.001465 -0.048273   \n",
       "calculated_host_listings_count  -0.114715  -0.106073  0.057462   \n",
       "availability_365                 0.082669   0.022381  0.081847   \n",
       "\n",
       "                                minimum_nights  number_of_reviews  \\\n",
       "neighbourhood_group                   0.017409           0.002392   \n",
       "neighbourhood                         0.026023          -0.038753   \n",
       "latitude                              0.024893          -0.016009   \n",
       "longitude                            -0.062772           0.058017   \n",
       "room_type                            -0.069909           0.001465   \n",
       "price                                 0.042805          -0.048273   \n",
       "minimum_nights                        1.000000          -0.081163   \n",
       "number_of_reviews                    -0.081163           1.000000   \n",
       "calculated_host_listings_count        0.127962          -0.073536   \n",
       "availability_365                      0.144275           0.173683   \n",
       "\n",
       "                                calculated_host_listings_count  \\\n",
       "neighbourhood_group                                   0.073666   \n",
       "neighbourhood                                         0.010326   \n",
       "latitude                                              0.019518   \n",
       "longitude                                            -0.114715   \n",
       "room_type                                            -0.106073   \n",
       "price                                                 0.057462   \n",
       "minimum_nights                                        0.127962   \n",
       "number_of_reviews                                    -0.073536   \n",
       "calculated_host_listings_count                        1.000000   \n",
       "availability_365                                      0.225712   \n",
       "\n",
       "                                availability_365  \n",
       "neighbourhood_group                     0.080506  \n",
       "neighbourhood                          -0.034581  \n",
       "latitude                               -0.010942  \n",
       "longitude                               0.082669  \n",
       "room_type                               0.022381  \n",
       "price                                   0.081847  \n",
       "minimum_nights                          0.144275  \n",
       "number_of_reviews                       0.173683  \n",
       "calculated_host_listings_count          0.225712  \n",
       "availability_365                        1.000000  "
      ]
     },
     "execution_count": 43,
     "metadata": {},
     "output_type": "execute_result"
    }
   ],
   "source": [
    "dfairbnb.corr()"
   ]
  },
  {
   "cell_type": "markdown",
   "metadata": {},
   "source": [
    "# Linear Regression Model"
   ]
  },
  {
   "cell_type": "code",
   "execution_count": 211,
   "metadata": {},
   "outputs": [],
   "source": [
    "from sklearn.model_selection import train_test_split\n",
    "from sklearn.linear_model import LinearRegression,LogisticRegression\n",
    "\n",
    "\n",
    "X_R1=df1[['neighbourhood_group','neighbourhood','latitude','longitude','room_type','minimum_nights','calculated_host_listings_count','availability_365']]\n",
    "y_R1=df1['price']\n",
    "\n",
    "X_train, X_test, y_train, y_test = train_test_split(X_R1, y_R1,random_state = 1)"
   ]
  },
  {
   "cell_type": "code",
   "execution_count": 241,
   "metadata": {},
   "outputs": [],
   "source": [
    "lm = LinearRegression()"
   ]
  },
  {
   "cell_type": "code",
   "execution_count": 242,
   "metadata": {},
   "outputs": [],
   "source": [
    "lm.fit(X_train,y_train)\n",
    "predicts = lm.predict(X_test)"
   ]
  },
  {
   "cell_type": "code",
   "execution_count": 243,
   "metadata": {},
   "outputs": [
    {
     "name": "stdout",
     "output_type": "stream",
     "text": [
      "r2 score is:\n"
     ]
    },
    {
     "data": {
      "text/plain": [
       "0.1076720333903688"
      ]
     },
     "execution_count": 243,
     "metadata": {},
     "output_type": "execute_result"
    }
   ],
   "source": [
    "print('r2 score is:')\n",
    "r2 = r2_score(y_test,predicts)\n",
    "r2"
   ]
  },
  {
   "cell_type": "code",
   "execution_count": 244,
   "metadata": {},
   "outputs": [
    {
     "name": "stdout",
     "output_type": "stream",
     "text": [
      "Mean absolute error is:\n"
     ]
    },
    {
     "data": {
      "text/plain": [
       "74.28437501692527"
      ]
     },
     "execution_count": 244,
     "metadata": {},
     "output_type": "execute_result"
    }
   ],
   "source": [
    "print(\"Mean absolute error is:\")\n",
    "mean_absolute_error(y_test,predicts)"
   ]
  },
  {
   "cell_type": "code",
   "execution_count": 217,
   "metadata": {},
   "outputs": [],
   "source": [
    "error_diff = pd.DataFrame({'Actual Values': np.array(y_test).flatten(), 'Predicted Values': predicts.flatten()})\n",
    "error_diff1 = error_diff.head(20)"
   ]
  },
  {
   "cell_type": "code",
   "execution_count": 218,
   "metadata": {},
   "outputs": [
    {
     "data": {
      "text/html": [
       "<div>\n",
       "<style scoped>\n",
       "    .dataframe tbody tr th:only-of-type {\n",
       "        vertical-align: middle;\n",
       "    }\n",
       "\n",
       "    .dataframe tbody tr th {\n",
       "        vertical-align: top;\n",
       "    }\n",
       "\n",
       "    .dataframe thead th {\n",
       "        text-align: right;\n",
       "    }\n",
       "</style>\n",
       "<table border=\"1\" class=\"dataframe\">\n",
       "  <thead>\n",
       "    <tr style=\"text-align: right;\">\n",
       "      <th></th>\n",
       "      <th>Actual Values</th>\n",
       "      <th>Predicted Values</th>\n",
       "    </tr>\n",
       "  </thead>\n",
       "  <tbody>\n",
       "    <tr>\n",
       "      <td>0</td>\n",
       "      <td>184</td>\n",
       "      <td>246.579478</td>\n",
       "    </tr>\n",
       "    <tr>\n",
       "      <td>1</td>\n",
       "      <td>125</td>\n",
       "      <td>224.713426</td>\n",
       "    </tr>\n",
       "    <tr>\n",
       "      <td>2</td>\n",
       "      <td>170</td>\n",
       "      <td>204.022040</td>\n",
       "    </tr>\n",
       "    <tr>\n",
       "      <td>3</td>\n",
       "      <td>300</td>\n",
       "      <td>226.035686</td>\n",
       "    </tr>\n",
       "    <tr>\n",
       "      <td>4</td>\n",
       "      <td>82</td>\n",
       "      <td>128.659162</td>\n",
       "    </tr>\n",
       "  </tbody>\n",
       "</table>\n",
       "</div>"
      ],
      "text/plain": [
       "   Actual Values  Predicted Values\n",
       "0            184        246.579478\n",
       "1            125        224.713426\n",
       "2            170        204.022040\n",
       "3            300        226.035686\n",
       "4             82        128.659162"
      ]
     },
     "execution_count": 218,
     "metadata": {},
     "output_type": "execute_result"
    }
   ],
   "source": [
    "error_diff1.head(5)"
   ]
  },
  {
   "cell_type": "markdown",
   "metadata": {},
   "source": [
    "#  Gradient Boosted Regressor model"
   ]
  },
  {
   "cell_type": "code",
   "execution_count": 220,
   "metadata": {},
   "outputs": [],
   "source": [
    "import xgboost\n",
    "import warnings \n",
    "from sklearn import metrics\n",
    "from sklearn.metrics import r2_score\n",
    "\n",
    "from sklearn.metrics import mean_absolute_error"
   ]
  },
  {
   "cell_type": "code",
   "execution_count": 238,
   "metadata": {},
   "outputs": [
    {
     "name": "stdout",
     "output_type": "stream",
     "text": [
      "r2 score is: 0.1662692786279122\n",
      "Mean absolute error is: 67.2365780384819\n"
     ]
    },
    {
     "data": {
      "text/html": [
       "<div>\n",
       "<style scoped>\n",
       "    .dataframe tbody tr th:only-of-type {\n",
       "        vertical-align: middle;\n",
       "    }\n",
       "\n",
       "    .dataframe tbody tr th {\n",
       "        vertical-align: top;\n",
       "    }\n",
       "\n",
       "    .dataframe thead th {\n",
       "        text-align: right;\n",
       "    }\n",
       "</style>\n",
       "<table border=\"1\" class=\"dataframe\">\n",
       "  <thead>\n",
       "    <tr style=\"text-align: right;\">\n",
       "      <th></th>\n",
       "      <th>Actual Values</th>\n",
       "      <th>Predicted Values</th>\n",
       "    </tr>\n",
       "  </thead>\n",
       "  <tbody>\n",
       "    <tr>\n",
       "      <td>0</td>\n",
       "      <td>184</td>\n",
       "      <td>167.265594</td>\n",
       "    </tr>\n",
       "    <tr>\n",
       "      <td>1</td>\n",
       "      <td>125</td>\n",
       "      <td>138.317429</td>\n",
       "    </tr>\n",
       "    <tr>\n",
       "      <td>2</td>\n",
       "      <td>170</td>\n",
       "      <td>202.480103</td>\n",
       "    </tr>\n",
       "    <tr>\n",
       "      <td>3</td>\n",
       "      <td>300</td>\n",
       "      <td>222.339752</td>\n",
       "    </tr>\n",
       "    <tr>\n",
       "      <td>4</td>\n",
       "      <td>82</td>\n",
       "      <td>179.667099</td>\n",
       "    </tr>\n",
       "  </tbody>\n",
       "</table>\n",
       "</div>"
      ],
      "text/plain": [
       "   Actual Values  Predicted Values\n",
       "0            184        167.265594\n",
       "1            125        138.317429\n",
       "2            170        202.480103\n",
       "3            300        222.339752\n",
       "4             82        179.667099"
      ]
     },
     "execution_count": 238,
     "metadata": {},
     "output_type": "execute_result"
    }
   ],
   "source": [
    "xgb = xgboost.XGBRegressor(n_estimators=200,learning_rate=0.1,objective='reg:squarederror')\n",
    "xgb.fit(X_train, y_train)\n",
    "xgb_pred = xgb.predict(X_test)\n",
    "np.sqrt(metrics.mean_squared_error(y_test,xgb_pred))\n",
    "\n",
    "r2 = r2_score(y_test,xgb_pred)\n",
    "print('r2 score is:',r2)\n",
    "\n",
    "print(\"Mean absolute error is:\",mean_absolute_error(y_test,xgb_pred))\n",
    "predict = xgb.predict(X_test)\n",
    "error_diff = pd.DataFrame({'Actual Values': np.array(y_test).flatten(), 'Predicted Values': predict.flatten()})\n",
    "error_diff1 = error_diff.head(20)\n",
    "error_diff1.head()"
   ]
  },
  {
   "cell_type": "code",
   "execution_count": null,
   "metadata": {},
   "outputs": [],
   "source": []
  },
  {
   "cell_type": "code",
   "execution_count": null,
   "metadata": {},
   "outputs": [],
   "source": []
  }
 ],
 "metadata": {
  "kernelspec": {
   "display_name": "Python [conda env:python3]",
   "language": "python",
   "name": "conda-env-python3-py"
  },
  "language_info": {
   "codemirror_mode": {
    "name": "ipython",
    "version": 3
   },
   "file_extension": ".py",
   "mimetype": "text/x-python",
   "name": "python",
   "nbconvert_exporter": "python",
   "pygments_lexer": "ipython3",
   "version": "3.6.9"
  }
 },
 "nbformat": 4,
 "nbformat_minor": 2
}
